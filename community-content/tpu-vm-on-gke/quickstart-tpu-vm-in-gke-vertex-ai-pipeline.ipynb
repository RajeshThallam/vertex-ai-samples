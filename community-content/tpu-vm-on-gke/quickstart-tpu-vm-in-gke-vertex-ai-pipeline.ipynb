{
 "cells": [
  {
   "cell_type": "markdown",
   "id": "73784126-5cf9-4e68-974a-2f0b14085654",
   "metadata": {},
   "source": [
    "# Quick Start: Submit a job to run on TPU VM in GKE using Vertex AI Pipelines\n",
    "\n",
    "This quickstart notebook demonstrates how to create a job spec and submit to \n",
    "run on TPU VM in GKE using Vertex AI Pipeline."
   ]
  },
  {
   "cell_type": "markdown",
   "id": "ead59cb3",
   "metadata": {},
   "source": [
    "## Before you begin\n",
    "\n",
    "Before you run this notebook, ensure that you have set up the environment with prerequisites as described in the environment setup of the [README](README.md) file. "
   ]
  },
  {
   "cell_type": "markdown",
   "id": "5b478c1d-ec50-49d4-b69f-c32db3e38c01",
   "metadata": {},
   "source": [
    "## Install and import required packages"
   ]
  },
  {
   "cell_type": "code",
   "execution_count": null,
   "id": "b847ae63-37b9-4eb6-870b-7d2b03dfa11f",
   "metadata": {},
   "outputs": [],
   "source": [
    "# Install required packages\n",
    "! pip -q install --upgrade google-cloud-aiplatform google-auth\n",
    "! pip -q install protobuf==3.19.* \n",
    "! pip -q install kfp==1.8.16"
   ]
  },
  {
   "cell_type": "code",
   "execution_count": null,
   "id": "990db1e3",
   "metadata": {},
   "outputs": [],
   "source": [
    "# Reloads modules automatically before executing any code/script\n",
    "%load_ext autoreload\n",
    "%autoreload 2"
   ]
  },
  {
   "cell_type": "code",
   "execution_count": null,
   "id": "599216b6-efa5-449e-86ef-5260f0473185",
   "metadata": {},
   "outputs": [],
   "source": [
    "! python3 -c \"import kfp; print('KFP version: {}'.format(kfp.__version__))\"\n",
    "! python3 -c \"import google.cloud.aiplatform as aip; print('Google AI Platform version: {}'.format(aip.__version__))\""
   ]
  },
  {
   "cell_type": "code",
   "execution_count": null,
   "id": "2149eed8",
   "metadata": {},
   "outputs": [],
   "source": [
    "import os\n",
    "from datetime import datetime\n",
    "from google.cloud import aiplatform as vertex_ai\n",
    "from kfp.v2 import compiler"
   ]
  },
  {
   "cell_type": "code",
   "execution_count": null,
   "id": "1049c9f6-eaff-4bdc-9bd9-dc8112b9b4a9",
   "metadata": {},
   "outputs": [],
   "source": [
    "def get_timestamp():\n",
    "    \"\"\"return formatted date/time\"\"\"\n",
    "    return datetime.now().strftime(\"%Y%m%d%H%M%S\")"
   ]
  },
  {
   "cell_type": "markdown",
   "id": "31c575f9-43e9-4964-adc8-da3bd8bd4465",
   "metadata": {},
   "source": [
    "## Configure Environment Settings"
   ]
  },
  {
   "cell_type": "markdown",
   "id": "2ea79f3e",
   "metadata": {},
   "source": [
    "Change the values of the following parameters to reflect your environment.\n",
    "\n",
    "- `PROJECT_ID`: Project ID of your environment\n",
    "- `ZONE`: Google Cloud Zone where your resources such as GKE cluster, TPU VM will be deployed and are located.\n",
    "- `BUCKET_NAME`: Cloud Storage bucket to use for Vertex AI staging. Must be in the same region as ZONE.\n",
    "\n",
    "<div class=\"alert alert-block alert-info\"> \n",
    "⚠️ Please choose the region/zone based on the Cloud TPU availability. You can \n",
    "create TPU v2 or v3 configurations in the zones as shown <a href=\"https://cloud.google.com/tpu/docs/regions-zones\">here</a>.\n",
    "    \n",
    "⚠️ Please make sure GKE cluster is created in the same zone as Cloud TPU VM.\n",
    "</div>"
   ]
  },
  {
   "cell_type": "code",
   "execution_count": null,
   "id": "decb5fef",
   "metadata": {},
   "outputs": [],
   "source": [
    "PROJECT_ID = '[your-project-id]'  # Change to your project ID\n",
    "ZONE = 'us-central1-b'   # Change to your zone (example: us-central1-b)\n",
    "BUCKET_NAME = '[your-bucket-name]'  # Change to your bucket name"
   ]
  },
  {
   "cell_type": "code",
   "execution_count": null,
   "id": "145fa01e",
   "metadata": {},
   "outputs": [],
   "source": [
    "REGION = '-'.join(ZONE.split(sep='-')[:-1])\n",
    "BUCKET_URI = f\"gs://{BUCKET_NAME}\""
   ]
  },
  {
   "cell_type": "markdown",
   "id": "fb1d7c68",
   "metadata": {},
   "source": [
    "<div class=\"alert alert-block alert-info\"> \n",
    "⚠️ If you have set up the environment using the setup script <a href=./env-setup/install.sh><tt>install.sh</tt></a>\n",
    "you DO NOT need to change the following settings. Otherwise make sure that they are consistent with your environment.\n",
    "</div>\n",
    "\n",
    "- `DOCKER_ARTIFACT_REPO`: Docker repository in Artifact Registry\n",
    "- `IMAGE_NAME`: Base image name with dependencies to run a job on TPU VM in GKE"
   ]
  },
  {
   "cell_type": "code",
   "execution_count": null,
   "id": "d1a8e067",
   "metadata": {},
   "outputs": [],
   "source": [
    "# =============================================================================\n",
    "# DO NOT UPDATE following unless you modified them in the install.sh\n",
    "# =============================================================================\n",
    "DOCKER_ARTIFACT_REPO = \"tpu-vm-on-gke\" # Docker repo in Artifact Registry\n",
    "IMAGE_NAME = \"tpu-vm-on-gke-base\" # base container image name\n",
    "IMAGE_URI = f\"{REGION}-docker.pkg.dev/{PROJECT_ID}/{DOCKER_ARTIFACT_REPO}/{IMAGE_NAME}\"\n",
    "os.environ['TPU_IN_GKE_IMAGE'] = IMAGE_URI"
   ]
  },
  {
   "cell_type": "markdown",
   "id": "8f2cb801",
   "metadata": {},
   "source": [
    "Define following parameters required for running the pipeline:\n",
    "\n",
    "- `GKE_CLUSTER_NAME`: GKE cluster name you created during the [environment setup](README.md).\n",
    "- `GKE_TPU_POOL_NAME`: GKE node pool name where TPU VM will be registered. Default: `tpu-pool`.\n",
    "- `TPU_NAME`: Name of the TPU VM to create.\n",
    "- `TPU_TYPE`: Specify a valid [TPU configuration](https://cloud.google.com/tpu/docs/supported-tpu-versions#tpu_v2_and_v3_configurations). E.g. `v2-8`, `v3-8`, `v2-32` etc.\n",
    "- `TPU_RUNTIME_VERSION`: Version of [TPU software](https://cloud.google.com/tpu/docs/supported-tpu-versions#tpu_software_versions) depending on the framework (TensorFlow, PyTorch or JAX). E.g. `tpu-vm-base`"
   ]
  },
  {
   "cell_type": "code",
   "execution_count": null,
   "id": "2abd5bc5",
   "metadata": {},
   "outputs": [],
   "source": [
    "GKE_CLUSTER_NAME = '[your-gke-cluster]' # Change to GKE cluster created during env setup\n",
    "GKE_TPU_POOL_NAME = \"tpu-pool\" # Change to GKE node pool name where TPU VM will be registered\n",
    "TPU_NAME = \"[tpu-vm-name]\" # Change to name of TPU VM you want to create\n",
    "TPU_TYPE = \"v2-8\" # Change to TPU configuration you want to use\n",
    "TPU_RUNTIME_VERSION = \"tpu-vm-base\" # Change to TPU software version you want to use"
   ]
  },
  {
   "cell_type": "markdown",
   "id": "50042e75-5bc9-4c47-af65-82c3b81cfff7",
   "metadata": {},
   "source": [
    "## Define Job Specification\n",
    "\n",
    "This section shows how to define a job specification (YAML file) to run on TPU VM \n",
    "through GKE. The notebook has examples how to use TPU VM on both TPU device and Pod slices:\n",
    "\n",
    "<table>\n",
    "    <tr> \n",
    "        <th>Framework</th>\n",
    "        <th>Job spec for TPU Device</th>\n",
    "        <th>Job spec for TPU Pod</th>\n",
    "    </tr>\n",
    "    <tr> \n",
    "        <td>TensorFlow</td>\n",
    "        <td><a href=\"#TensorFlow-Training-spec-on-a-TPU-device\">TPU Device</a></td>\n",
    "        <td><a href=\"#TensorFlow-Training-spec-on-a-TPU-Pod\">TPU Pod</a></td>\n",
    "    </tr>\n",
    "    <tr> \n",
    "        <td>PyTorch</td>\n",
    "        <td><a href=\"#PyTorch-Training-spec-on-a-TPU-device\">TPU Device</a></td>\n",
    "        <td><a href=\"#PyTorch-Training-spec-on-a-TPU-Pod\">TPU Pod</a></td>\n",
    "    </tr>\n",
    "    <tr> \n",
    "        <td>JAX</td>\n",
    "        <td><a href=\"#JAX-spec-on-a-TPU-device\">TPU Device</a></td>\n",
    "        <td><a href=\"#JAX-spec-on-a-TPU-Pod\">TPU Pod</a></td>\n",
    "    </tr>\n",
    "</table>"
   ]
  },
  {
   "cell_type": "markdown",
   "id": "88b01dc4-5815-4bfb-adfa-623196746b41",
   "metadata": {},
   "source": [
    "### TensorFlow"
   ]
  },
  {
   "cell_type": "markdown",
   "id": "692a3202-a1c4-4133-ae56-33e58b3962df",
   "metadata": {},
   "source": [
    "#### TensorFlow Training spec on a TPU device\n",
    "\n",
    "To use TensorFlow on a TPU device, you will need to do two setup steps:\n",
    "\n",
    "- Install a TPU VM build of TensorFlow from `gs://cloud-tpu-tpuvm-artifacts/tensorflow/`\n",
    "- Install `libtpu` from pip and create a symlink to `/lib/libtpu.so`\n",
    "\n",
    "An example workload spec is shown below."
   ]
  },
  {
   "cell_type": "code",
   "execution_count": null,
   "id": "fb1fec13",
   "metadata": {},
   "outputs": [],
   "source": [
    "EXPERIMENT_ID = 'tpu-device-tensorflow'\n",
    "PIPELINE_NAME = f'pipeline-gke-{EXPERIMENT_ID}'\n",
    "\n",
    "JOB_SPEC_PATH = f'{EXPERIMENT_ID}-training-spec.yaml'\n",
    "GCS_JOB_SPEC_PATH = f'gs://{BUCKET_NAME}/training/job-spec/{JOB_SPEC_PATH}'\n",
    "print(JOB_SPEC_PATH)"
   ]
  },
  {
   "cell_type": "code",
   "execution_count": null,
   "id": "e0c5e05a-0dc5-4860-8a0f-551fef28076a",
   "metadata": {},
   "outputs": [],
   "source": [
    "%%bash -s \"$TPU_NAME\" \"$JOB_SPEC_PATH\"\n",
    "\n",
    "TPU_NAME=$1\n",
    "JOB_SPEC_PATH=$2\n",
    "\n",
    "echo $JOB_SPEC_PATH\n",
    "cat <<EOF > ${JOB_SPEC_PATH}\n",
    "\n",
    "apiVersion: v1\n",
    "kind: Pod\n",
    "metadata:\n",
    "  generateName: tpu-tensorflow-demo-\n",
    "spec:\n",
    "  affinity:\n",
    "    nodeAffinity:\n",
    "      requiredDuringSchedulingIgnoredDuringExecution:\n",
    "        nodeSelectorTerms:\n",
    "        - matchExpressions:\n",
    "          - key: tpu.googleapis.com/name\n",
    "            operator: In\n",
    "            values:\n",
    "            # this should reflect your TPU name\n",
    "            - $TPU_NAME\n",
    "          - key: tpu.googleapis.com/type\n",
    "            operator: In\n",
    "            values:\n",
    "            - v2-8\n",
    "            - v3-8\n",
    "  restartPolicy: Never\n",
    "  containers:\n",
    "  - name: tpu-demo\n",
    "    securityContext:\n",
    "      privileged: true\n",
    "    image: python:3.8\n",
    "    command:\n",
    "    - bash\n",
    "    - -xc\n",
    "    - |\n",
    "      pip install https://storage.googleapis.com/cloud-tpu-tpuvm-artifacts/tensorflow/tf-2.8.0/tensorflow-2.8.0-cp38-cp38-linux_x86_64.whl\n",
    "      curl -L https://storage.googleapis.com/cloud-tpu-tpuvm-artifacts/libtpu/1.2.0/libtpu.so -o /lib/libtpu.so\n",
    "\n",
    "      curl -fsSL https://github.com/tensorflow/models/archive/refs/heads/r2.8.0.tar.gz | tar xz\n",
    "      cd models-r2.8.0/\n",
    "      pip install -r official/requirements.txt\n",
    "      PYTHONPATH=\\$(pwd) python official/vision/image_classification/mnist_main.py --tpu=local --distribution_strategy=tpu\n",
    "EOF\n",
    "\n",
    "echo \"Writing \"${JOB_SPEC_PATH}"
   ]
  },
  {
   "cell_type": "markdown",
   "id": "98f840a1",
   "metadata": {},
   "source": [
    "- **Copy the job spec to Cloud Storage bucket for the pipeline to run on TPU VM.**"
   ]
  },
  {
   "cell_type": "code",
   "execution_count": null,
   "id": "9d360a2d-e248-4837-9972-b818951eeb1e",
   "metadata": {},
   "outputs": [],
   "source": [
    "! gsutil cp $JOB_SPEC_PATH $GCS_JOB_SPEC_PATH\n",
    "! gsutil cat $GCS_JOB_SPEC_PATH"
   ]
  },
  {
   "cell_type": "markdown",
   "id": "f0c81c48",
   "metadata": {},
   "source": [
    "<div class=\"alert alert-block alert-warning\">\n",
    "    ▶ Proceed to <a href=\"#Configure-and-run-the-job-via-Vertex-AI-Pipeline\"><b>run the job</b></a> on TPU VM in GKE via Vertex AI Pipeline.\n",
    "</div>"
   ]
  },
  {
   "cell_type": "markdown",
   "id": "666e7816-4f3c-480b-8374-16b3f477fbc7",
   "metadata": {},
   "source": [
    "#### TensorFlow Training spec on a TPU Pod\n",
    "\n",
    "Running TPU VM workloads on pods is similar to running workloads on TPU Nodes, since both run the workload over GRPC. Thus, you don't need to install the TPU VM build of TensorFlow or `libtpu` on the main container. However, you will have to start the TPU GRPC runtime in your workload spec.\n",
    "\n",
    "<div class=\"alert alert-block alert-info\">\n",
    "        <b>⚠️</b> \n",
    "        Caveats:\n",
    "    <ul> \n",
    "        <li>Before starting the TPU runtime through GKE, you must stop the dummy runtime on each TPU worker. Example: <br/>\n",
    "            <pre>gcloud compute config-ssh\n",
    "gcloud compute tpus tpu-vm ssh $TPU_NAME \\\n",
    "  --project=$PROJECT_ID \\\n",
    "  --zone=$ZONE \\\n",
    "  --worker=all \\\n",
    "  --command \"sudo systemctl stop tpu-runtime\n",
    "</pre>\n",
    "        </li>\n",
    "        <li>Any input data must be accessible from the tpu-runtime container (e.g. in Cloud Storage or mounted in that container).</li>\n",
    "        <li>Because the tpu-runtime container will not stop on its own, you must manually delete the Job when it is finished.</li>\n",
    "    </ul>\n",
    "</div>\n",
    "\n",
    "An example TensorFlow workload spec to run on TPU v2-32 is shown below:"
   ]
  },
  {
   "cell_type": "code",
   "execution_count": null,
   "id": "c54eaa5b-f0c1-4d0a-8c52-4549b4d08949",
   "metadata": {},
   "outputs": [],
   "source": [
    "EXPERIMENT_ID = 'tpu-pod-tensorflow'\n",
    "PIPELINE_NAME = f'pipeline-gke-{EXPERIMENT_ID}'\n",
    "\n",
    "JOB_SPEC_PATH = f'{EXPERIMENT_ID}-training-spec.yaml'\n",
    "GCS_JOB_SPEC_PATH = f'gs://{BUCKET_NAME}/training/job-spec/{JOB_SPEC_PATH}'\n",
    "print(JOB_SPEC_PATH)"
   ]
  },
  {
   "cell_type": "code",
   "execution_count": null,
   "id": "ed1319df-b026-435e-b240-1d68d3c67732",
   "metadata": {},
   "outputs": [],
   "source": [
    "! gcloud alpha compute tpus tpu-vm ssh gke-tpu-vm --project=$PROJECT_ID --zone=$ZONE --worker=all --command \"sudo systemctl stop tpu-runtime\""
   ]
  },
  {
   "cell_type": "code",
   "execution_count": null,
   "id": "67394159-f43b-4523-91a9-c7e7c0e44e89",
   "metadata": {},
   "outputs": [],
   "source": [
    "%%bash -s \"$TPU_NAME\" \"$JOB_SPEC_PATH\"\n",
    "\n",
    "TPU_NAME=$1\n",
    "JOB_SPEC_PATH=$2\n",
    "\n",
    "echo $JOB_SPEC_PATH\n",
    "cat <<EOF > ${JOB_SPEC_PATH}\n",
    "\n",
    "apiVersion: batch/v1\n",
    "kind: Job\n",
    "metadata:\n",
    "  generateName: tpu-tensorflow-pod-demo-\n",
    "spec:\n",
    "  backoffLimit: 0\n",
    "  completions: 4\n",
    "  parallelism: 4\n",
    "  template:\n",
    "    spec:\n",
    "      hostNetwork: true\n",
    "      affinity:\n",
    "        nodeAffinity:\n",
    "          requiredDuringSchedulingIgnoredDuringExecution:\n",
    "            nodeSelectorTerms:\n",
    "            - matchExpressions:\n",
    "              - key: tpu.googleapis.com/name\n",
    "                operator: In\n",
    "                values:\n",
    "                # this should reflect your TPU name\n",
    "                - $TPU_NAME\n",
    "              - key: tpu.googleapis.com/type\n",
    "                operator: In\n",
    "                values:\n",
    "                - v2-32\n",
    "      restartPolicy: Never\n",
    "      containers:\n",
    "      - name: tpu-runtime\n",
    "        securityContext:\n",
    "          privileged: true\n",
    "        image: gcr.io/cloud-tpu-v2-images/grpc_tpu_worker:tf-2.7.0\n",
    "        resources:\n",
    "          requests:\n",
    "            # Lower to 40 for v3 TPU pods.\n",
    "            cpu: 90\n",
    "      - name: tpu-demo\n",
    "        image: python:3.8\n",
    "        command:\n",
    "        - bash\n",
    "        - -c\n",
    "        - |\n",
    "          # Only run the workload on worker 0\n",
    "          WORKER_ID=\\$(curl -s 'http://metadata.google.internal/computeMetadata/v1/instance/attributes/agent-worker-number' -H 'Metadata-Flavor: Google')\n",
    "          if [[ \"\\$WORKER_ID\" != 0 ]]; then\n",
    "            exit 0\n",
    "          fi\n",
    "\n",
    "          # Get the TPU VM's name from metadata\n",
    "          export TPU_NAME=\\$(basename \\$(curl -s 'http://metadata.google.internal/computeMetadata/v1/instance/attributes/agent-node-name' -H 'Metadata-Flavor: Google'))\n",
    "          pip install tensorflow cloud-tpu-client\n",
    "\n",
    "          # Do some basic math on each core\n",
    "          python -c \"\n",
    "          import os\n",
    "          import tensorflow as tf\n",
    "          cr = tf.distribute.cluster_resolver.TPUClusterResolver(os.getenv('TPU_NAME'))\n",
    "          tf.config.experimental_connect_to_cluster(cr)\n",
    "          tf.tpu.experimental.initialize_tpu_system(cr)\n",
    "          strategy = tf.distribute.TPUStrategy(cr)\n",
    "\n",
    "          @tf.function\n",
    "          def add_fn(x,y):\n",
    "              z = x + y\n",
    "              return z\n",
    "\n",
    "          x = tf.constant(1.)\n",
    "          y = tf.constant(1.)\n",
    "          z = strategy.run(add_fn, args=(x,y))\n",
    "          print(z)\n",
    "          \"\n",
    "EOF\n",
    "\n",
    "echo \"Writing \"${JOB_SPEC_PATH}"
   ]
  },
  {
   "cell_type": "markdown",
   "id": "bd99785d-d57b-4f02-a8fb-eb3a4593fd72",
   "metadata": {},
   "source": [
    "- **Copy the job spec to Cloud Storage bucket for the pipeline to run on TPU VM.**"
   ]
  },
  {
   "cell_type": "code",
   "execution_count": null,
   "id": "742c13e7-c60e-42ab-afa0-8fce557f1765",
   "metadata": {},
   "outputs": [],
   "source": [
    "! gsutil cp $JOB_SPEC_PATH $GCS_JOB_SPEC_PATH\n",
    "! gsutil cat $GCS_JOB_SPEC_PATH"
   ]
  },
  {
   "cell_type": "markdown",
   "id": "a7782e10-a167-4f01-a4ee-e0446833de5b",
   "metadata": {},
   "source": [
    "<div class=\"alert alert-block alert-warning\">\n",
    "    ▶ Proceed to <a href=\"#Configure-and-run-the-job-via-Vertex-AI-Pipeline\"><b>run the job</b></a> on TPU VM in GKE via Vertex AI Pipeline.\n",
    "</div>"
   ]
  },
  {
   "cell_type": "markdown",
   "id": "a8cc952f-597d-43e5-ab0d-00233cc701ca",
   "metadata": {},
   "source": [
    "### PyTorch"
   ]
  },
  {
   "cell_type": "markdown",
   "id": "4aa2d698-fd03-4d9f-9097-44bc971e9be1",
   "metadata": {
    "tags": []
   },
   "source": [
    "#### PyTorch Training spec on a TPU device\n",
    "\n",
    "To use PyTorch on a TPU device, you will need to do two setup steps:\n",
    "\n",
    "- Increase the size of `/dev/shm/`\n",
    "- Install `libtpu_nightly` with `pip`.\n",
    "\n",
    "\n",
    "An example workload spec is shown below."
   ]
  },
  {
   "cell_type": "code",
   "execution_count": null,
   "id": "4924dd64-462a-473d-aac9-86883cb17549",
   "metadata": {},
   "outputs": [],
   "source": [
    "EXPERIMENT_ID = 'tpu-device-pytorch'\n",
    "PIPELINE_NAME = f'pipeline-gke-{EXPERIMENT_ID}'\n",
    "\n",
    "JOB_SPEC_PATH = f'{EXPERIMENT_ID}-training-spec.yaml'\n",
    "GCS_JOB_SPEC_PATH = f'gs://{BUCKET_NAME}/training/job-spec/{JOB_SPEC_PATH}'\n",
    "print(JOB_SPEC_PATH)"
   ]
  },
  {
   "cell_type": "code",
   "execution_count": null,
   "id": "bc517462-74e8-43f6-971e-b5d0e4df0a9c",
   "metadata": {},
   "outputs": [],
   "source": [
    "%%bash -s \"$TPU_NAME\" \"$JOB_SPEC_PATH\"\n",
    "\n",
    "TPU_NAME=$1\n",
    "JOB_SPEC_PATH=$2\n",
    "\n",
    "echo $JOB_SPEC_PATH\n",
    "cat <<EOF > ${JOB_SPEC_PATH}\n",
    "\n",
    "apiVersion: v1\n",
    "kind: Pod\n",
    "metadata:\n",
    "  generateName: tpu-pytorch-demo-\n",
    "spec:\n",
    "  affinity:\n",
    "    nodeAffinity:\n",
    "      requiredDuringSchedulingIgnoredDuringExecution:\n",
    "        nodeSelectorTerms:\n",
    "        - matchExpressions:\n",
    "          - key: tpu.googleapis.com/name\n",
    "            operator: In\n",
    "            values:\n",
    "            # this should reflect your TPU name\n",
    "            - $TPU_NAME\n",
    "          - key: tpu.googleapis.com/type\n",
    "            operator: In\n",
    "            values:\n",
    "            - v2-8\n",
    "            - v3-8\n",
    "  restartPolicy: Never\n",
    "  volumes:\n",
    "  # Increase size of tmpfs /dev/shm to avoid OOM.\n",
    "  - name: dshm\n",
    "    emptyDir:\n",
    "      medium: Memory\n",
    "  containers:\n",
    "  - name: tpu-demo\n",
    "    securityContext:\n",
    "      privileged: true\n",
    "    image: gcr.io/tpu-pytorch/xla:r1.10_3.8_tpuvm\n",
    "    command:\n",
    "    - bash\n",
    "    - -c\n",
    "    - |\n",
    "      pip install https://storage.googleapis.com/cloud-tpu-tpuvm-artifacts/wheels/libtpu-nightly/libtpu_nightly-0.1.dev20211015-py3-none-any.whl\n",
    "      python /pytorch/xla/test/test_train_mp_mnist.py\n",
    "    volumeMounts:\n",
    "    - mountPath: /dev/shm\n",
    "      name: dshm\n",
    "    env:\n",
    "    - name: XRT_TPU_CONFIG\n",
    "      value: localservice;0;localhost:51011\n",
    "EOF\n",
    "\n",
    "echo \"Writing \"${JOB_SPEC_PATH}"
   ]
  },
  {
   "cell_type": "markdown",
   "id": "b121b228-4d33-4328-bb9b-ac8ba0db2383",
   "metadata": {},
   "source": [
    "- **Copy the job spec to Cloud Storage bucket for the pipeline to run on TPU VM.**"
   ]
  },
  {
   "cell_type": "code",
   "execution_count": null,
   "id": "697c5d0a-bafb-4ba9-bd42-1d4049acf2c3",
   "metadata": {},
   "outputs": [],
   "source": [
    "! gsutil cp $JOB_SPEC_PATH $GCS_JOB_SPEC_PATH\n",
    "! gsutil cat $GCS_JOB_SPEC_PATH"
   ]
  },
  {
   "cell_type": "markdown",
   "id": "f9988c3d-d6bc-446b-b0dc-9f1a13b7d2d9",
   "metadata": {},
   "source": [
    "<div class=\"alert alert-block alert-warning\">\n",
    "    ▶ Proceed to <a href=\"#Configure-and-run-the-job-via-Vertex-AI-Pipeline\"><b>run the job</b></a> on TPU VM in GKE via Vertex AI Pipeline.\n",
    "</div>"
   ]
  },
  {
   "cell_type": "markdown",
   "id": "64791ac6-2cbb-4be7-b697-b95da3be171e",
   "metadata": {
    "tags": []
   },
   "source": [
    "#### PyTorch Training spec on a TPU Pod\n",
    "\n",
    "Using PyTorch XLA on pods requires some extensive environment variable setup. Copy the example below and substitute your own command. You will also need to update `XRT_SHARD_WORLD_SIZE` and `TPU_HOST_BOUNDS` according to your TPU pod size (see comments below for more details).\n",
    "\n",
    "An example PyTorch workload spec to run on TPU v2-32 is shown below:"
   ]
  },
  {
   "cell_type": "code",
   "execution_count": null,
   "id": "53cc4319-60a9-4ab4-9d6f-3bb8fc3d9f4e",
   "metadata": {},
   "outputs": [],
   "source": [
    "EXPERIMENT_ID = 'tpu-pod-pytorch'\n",
    "PIPELINE_NAME = f'pipeline-gke-{EXPERIMENT_ID}'\n",
    "\n",
    "JOB_SPEC_PATH = f'{EXPERIMENT_ID}-training-spec.yaml'\n",
    "GCS_JOB_SPEC_PATH = f'gs://{BUCKET_NAME}/training/job-spec/{JOB_SPEC_PATH}'\n",
    "print(JOB_SPEC_PATH)"
   ]
  },
  {
   "cell_type": "code",
   "execution_count": null,
   "id": "60782a07-e443-4881-a269-e42ca3f8d7bc",
   "metadata": {},
   "outputs": [],
   "source": [
    "%%bash -s \"$TPU_NAME\" \"$JOB_SPEC_PATH\"\n",
    "\n",
    "TPU_NAME=$1\n",
    "JOB_SPEC_PATH=$2\n",
    "\n",
    "echo $JOB_SPEC_PATH\n",
    "cat <<EOF > ${JOB_SPEC_PATH}\n",
    "apiVersion: batch/v1\n",
    "kind: Job\n",
    "metadata:\n",
    "  generateName: tpu-pytorch-pod-demo-\n",
    "spec:\n",
    "  backoffLimit: 0\n",
    "  completions: 4\n",
    "  parallelism: 4\n",
    "  template:\n",
    "    spec:\n",
    "      hostNetwork: true\n",
    "      affinity:\n",
    "        nodeAffinity:\n",
    "          requiredDuringSchedulingIgnoredDuringExecution:\n",
    "            nodeSelectorTerms:\n",
    "            - matchExpressions:\n",
    "              - key: tpu.googleapis.com/name\n",
    "                operator: In\n",
    "                values:\n",
    "                # this should reflect your TPU name\n",
    "                - $TPU_NAME\n",
    "              - key: tpu.googleapis.com/type\n",
    "                operator: In\n",
    "                values:\n",
    "                - v2-32\n",
    "      restartPolicy: Never\n",
    "      volumes:\n",
    "      # Increase size of tmpfs /dev/shm to avoid OOM.\n",
    "      - name: dshm\n",
    "        emptyDir:\n",
    "          medium: Memory\n",
    "      containers:\n",
    "      - name: tpu-demo\n",
    "        securityContext:\n",
    "          privileged: true\n",
    "        image: gcr.io/tpu-pytorch/xla:r1.10_3.8_tpuvm\n",
    "        command:\n",
    "        - bash\n",
    "        - -xc\n",
    "        - |\n",
    "          pip install https://storage.googleapis.com/cloud-tpu-tpuvm-artifacts/wheels/libtpu-nightly/libtpu_nightly-0.1.dev20211015-py3-none-any.whl\n",
    "\n",
    "          worker_id=\\$(curl -s 'http://metadata.google.internal/computeMetadata/v1/instance/attributes/agent-worker-number' -H 'Metadata-Flavor: Google')\n",
    "          project=\\$(curl -sS \"http://metadata.google.internal/computeMetadata/v1/project/project-id\" -H \"Metadata-Flavor: Google\")\n",
    "          zone=\\$(basename \\$(curl -sS \"http://metadata.google.internal/computeMetadata/v1/instance/zone\" -H \"Metadata-Flavor: Google\"))\n",
    "          tpu_name=\\$(curl -s 'http://metadata.google.internal/computeMetadata/v1/instance/attributes/instance-id' -H 'Metadata-Flavor: Google')\n",
    "          worker_ips=(\\$(gcloud compute tpus describe \\${tpu_name} --project=\\${project} --zone=\\${zone} --flatten=\"networkEndpoints[]\" --format=\"csv[no-heading](networkEndpoints.ipAddress)\"))\n",
    "          worker_0_ip=\"\\${worker_ips[0]}\"\n",
    "\n",
    "          export XRT_LOCAL_WORKER=\"c_localservice:\\${worker_id}\"\n",
    "          export XRT_SHARD_ORDINAL=\"\\${worker_id}\"\n",
    "          export CLOUD_TPU_TASK_ID=\"\\${worker_id}\"\n",
    "          export XRT_MESH_SERVICE_ADDRESS=\\${worker_ips[0]}:8477\n",
    "          export TPU_MESH_CONTROLLER_ADDRESS=\\${worker_ips[0]}:8476\n",
    "          if [ \\$worker_id = 0 ]; then\n",
    "            for ip in \\${worker_ips[@]}; do\n",
    "              tpu_configs+=(\"c_localservice;\\$((idx++));\\$ip:51011\")\n",
    "            done\n",
    "            export XRT_TPU_CONFIG=\\$(IFS=\"|\"; echo \"\\${tpu_configs[*]}\")\n",
    "          fi\n",
    "\n",
    "          python3 -m torch_xla.core.xrt_run_server --port 51011\n",
    "          # Replace this with your model command\n",
    "          python3 /pytorch/xla/test/test_train_mp_imagenet.py --fake_data --model=resnet50 --num_epochs=1\n",
    "        volumeMounts:\n",
    "        - mountPath: /dev/shm\n",
    "          name: dshm\n",
    "        env:\n",
    "        # Update to number of cores divided by 8. (e.g. v3-32 -> 32 / 8 = 4)\n",
    "        - name: XRT_SHARD_WORLD_SIZE\n",
    "          value: '4'\n",
    "        # Get bounds from PyTorch XLA code:\n",
    "        # https://github.com/pytorch/xla/blob/09fc189db4efe3bd8e32c2791423a7793fa69ddc/torch_xla/distributed/xla_dist.py#L303\n",
    "        - name: TPU_HOST_BOUNDS\n",
    "          value: 2,2,1\n",
    "        - name: TPU_CHIPS_PER_HOST_BOUNDS\n",
    "          value: 2,2,1\n",
    "        - name: TPU_NUM_DEVICES\n",
    "          value: '8'\n",
    "        - name: XLA_EMIT_STEPLOG\n",
    "          value: '1'\n",
    "        - name: TPUVM_MODE\n",
    "          value: '1'\n",
    "        - name: TPU_MESH_CONTROLLER_PORT\n",
    "          value: '8476'\n",
    "        resources:\n",
    "          requests:\n",
    "            # Lower to 40 for v3 TPU pods.\n",
    "            cpu: 90\n",
    "EOF\n",
    "\n",
    "echo \"Writing \"${JOB_SPEC_PATH}"
   ]
  },
  {
   "cell_type": "markdown",
   "id": "1d8481e3-2111-4172-bb09-3ac51c060e4c",
   "metadata": {},
   "source": [
    "- **Copy the job spec to Cloud Storage bucket for the pipeline to run on TPU VM.**"
   ]
  },
  {
   "cell_type": "code",
   "execution_count": null,
   "id": "4a5a08aa-7593-4145-b338-e7fb9f152860",
   "metadata": {},
   "outputs": [],
   "source": [
    "! gsutil cp $JOB_SPEC_PATH $GCS_JOB_SPEC_PATH\n",
    "! gsutil cat $GCS_JOB_SPEC_PATH"
   ]
  },
  {
   "cell_type": "markdown",
   "id": "769ff48f-6699-4f78-9541-ff07c7776e53",
   "metadata": {},
   "source": [
    "<div class=\"alert alert-block alert-warning\">\n",
    "    ▶ Proceed to <a href=\"#Configure-and-run-the-job-via-Vertex-AI-Pipeline\"><b>run the job</b></a> on TPU VM in GKE via Vertex AI Pipeline.\n",
    "</div>"
   ]
  },
  {
   "cell_type": "markdown",
   "id": "e30addf0-463d-4430-85a6-afd22391d2f5",
   "metadata": {},
   "source": [
    "### JAX"
   ]
  },
  {
   "cell_type": "markdown",
   "id": "26c12299-0832-459f-aff1-f5eae2aa8954",
   "metadata": {
    "tags": []
   },
   "source": [
    "#### JAX spec on a TPU device\n",
    "\n",
    "You can simply `pip install jax[tpu]` to use JAX within the container to use the TPU.\n",
    "\n",
    "Example TPU device workload:"
   ]
  },
  {
   "cell_type": "code",
   "execution_count": null,
   "id": "7a9497b6-3fa5-4569-a3dc-a9b40c889a16",
   "metadata": {},
   "outputs": [],
   "source": [
    "EXPERIMENT_ID = 'tpu-device-jax'\n",
    "PIPELINE_NAME = f'pipeline-gke-{EXPERIMENT_ID}'\n",
    "\n",
    "JOB_SPEC_PATH = f'{EXPERIMENT_ID}-spec.yaml'\n",
    "GCS_JOB_SPEC_PATH = f'gs://{BUCKET_NAME}/training/job-spec/{JOB_SPEC_PATH}'\n",
    "print(JOB_SPEC_PATH)"
   ]
  },
  {
   "cell_type": "code",
   "execution_count": null,
   "id": "ee4d7ebf-6d40-4161-a978-e7e3bd861ad5",
   "metadata": {},
   "outputs": [],
   "source": [
    "%%bash -s \"$TPU_NAME\" \"$JOB_SPEC_PATH\"\n",
    "\n",
    "TPU_NAME=$1\n",
    "JOB_SPEC_PATH=$2\n",
    "\n",
    "echo $JOB_SPEC_PATH\n",
    "cat <<EOF > ${JOB_SPEC_PATH}\n",
    "\n",
    "apiVersion: v1\n",
    "kind: Pod\n",
    "metadata:\n",
    "  generateName: tpu-jax-demo-\n",
    "spec:\n",
    "  affinity:\n",
    "    nodeAffinity:\n",
    "      requiredDuringSchedulingIgnoredDuringExecution:\n",
    "        nodeSelectorTerms:\n",
    "        - matchExpressions:\n",
    "          - key: tpu.googleapis.com/name\n",
    "            operator: In\n",
    "            values:\n",
    "            # this should reflect your TPU name\n",
    "            - $TPU_NAME\n",
    "          - key: tpu.googleapis.com/type\n",
    "            operator: In\n",
    "            values:\n",
    "            - v2-8\n",
    "            - v3-8\n",
    "  restartPolicy: Never\n",
    "  containers:\n",
    "  - name: tpu-demo\n",
    "    securityContext:\n",
    "      privileged: true\n",
    "    image: python:3.8\n",
    "    command:\n",
    "    - bash\n",
    "    - -c\n",
    "    - |\n",
    "      pip install \"jax[tpu]>=0.2.16\" -f https://storage.googleapis.com/jax-releases/libtpu_releases.html\n",
    "\n",
    "      python -c 'import jax; print(\"TPU cores:\", jax.device_count())'\n",
    "EOF\n",
    "\n",
    "echo \"Writing \"${JOB_SPEC_PATH}"
   ]
  },
  {
   "cell_type": "markdown",
   "id": "064acdc3-d90a-47c6-b04f-d15a01575594",
   "metadata": {},
   "source": [
    "- **Copy the job spec to Cloud Storage bucket for the pipeline to run on TPU VM.**"
   ]
  },
  {
   "cell_type": "code",
   "execution_count": null,
   "id": "6de941e3-1e87-4afe-a0ed-5d1a83fedb09",
   "metadata": {},
   "outputs": [],
   "source": [
    "! gsutil cp $JOB_SPEC_PATH $GCS_JOB_SPEC_PATH\n",
    "! gsutil cat $GCS_JOB_SPEC_PATH"
   ]
  },
  {
   "cell_type": "markdown",
   "id": "008766a8-120f-488e-9278-9c1c8fd64099",
   "metadata": {},
   "source": [
    "<div class=\"alert alert-block alert-warning\">\n",
    "    ▶ Proceed to <a href=\"#Configure-and-run-the-job-via-Vertex-AI-Pipeline\"><b>run the job</b></a> on TPU VM in GKE via Vertex AI Pipeline.\n",
    "</div>"
   ]
  },
  {
   "cell_type": "markdown",
   "id": "2c11b12c-d4a5-4a1f-9655-26463087751c",
   "metadata": {},
   "source": [
    "#### JAX spec on a TPU Pod\n",
    "\n",
    "For TPU Pod workloads, enable host networking and run the same container on each TPU worker.\n",
    "\n",
    "Example JAX spec for TPU v2-32 workload:"
   ]
  },
  {
   "cell_type": "code",
   "execution_count": null,
   "id": "d29fa00d-11a2-4900-80b4-9e6964e6e5cc",
   "metadata": {},
   "outputs": [],
   "source": [
    "EXPERIMENT_ID = 'tpu-pod-jax'\n",
    "PIPELINE_NAME = f'pipeline-gke-{EXPERIMENT_ID}'\n",
    "\n",
    "JOB_SPEC_PATH = f'{EXPERIMENT_ID}-spec.yaml'\n",
    "GCS_JOB_SPEC_PATH = f'gs://{BUCKET_NAME}/training/job-spec/{JOB_SPEC_PATH}'\n",
    "print(JOB_SPEC_PATH)"
   ]
  },
  {
   "cell_type": "code",
   "execution_count": null,
   "id": "a9030f60-a516-4c4a-832f-1ad1aa41f9df",
   "metadata": {},
   "outputs": [],
   "source": [
    "%%bash -s \"$TPU_NAME\" \"$JOB_SPEC_PATH\"\n",
    "\n",
    "TPU_NAME=$1\n",
    "JOB_SPEC_PATH=$2\n",
    "\n",
    "echo $JOB_SPEC_PATH\n",
    "cat <<EOF > ${JOB_SPEC_PATH}\n",
    "\n",
    "apiVersion: batch/v1\n",
    "kind: Job\n",
    "metadata:\n",
    "  generateName: tpu-jax-pod-demo-\n",
    "spec:\n",
    "  backoffLimit: 0\n",
    "  # completions and parallelism should be the number of cores divided by 8\n",
    "  # (e.g. 4 for a v*-32)\n",
    "  completions: 4\n",
    "  parallelism: 4\n",
    "  template:\n",
    "    spec:\n",
    "      # Need to enable host networking\n",
    "      hostNetwork: true\n",
    "      affinity:\n",
    "        nodeAffinity:\n",
    "          requiredDuringSchedulingIgnoredDuringExecution:\n",
    "            nodeSelectorTerms:\n",
    "            - matchExpressions:\n",
    "              - key: tpu.googleapis.com/name\n",
    "                operator: In\n",
    "                values:\n",
    "                # this should reflect your TPU name\n",
    "                - $TPU_NAME\n",
    "              - key: tpu.googleapis.com/type\n",
    "                operator: In\n",
    "                values:\n",
    "                - v2-32\n",
    "      restartPolicy: Never\n",
    "      containers:\n",
    "      - name: tpu-demo\n",
    "        securityContext:\n",
    "          privileged: true\n",
    "        image: python:3.8\n",
    "        command:\n",
    "        - bash\n",
    "        - -c\n",
    "        - |\n",
    "          pip install \"jax[tpu]>=0.2.16\" -f https://storage.googleapis.com/jax-releases/libtpu_releases.html\n",
    "          python -c 'import jax; print(\"TPU cores:\", jax.device_count())'\n",
    "        resources:\n",
    "          requests:\n",
    "            # Request 90 CPU to prevent multiple workloads from scheduling on\n",
    "            # the same machine. Lower to 40 for v3-* pods.\n",
    "            cpu: 90\n",
    "EOF\n",
    "\n",
    "echo \"Writing \"${JOB_SPEC_PATH}"
   ]
  },
  {
   "cell_type": "markdown",
   "id": "f702c4ae-4617-4fbe-ac8e-4d54eb137f32",
   "metadata": {},
   "source": [
    "- **Copy the job spec to Cloud Storage bucket for the pipeline to run on TPU VM.**"
   ]
  },
  {
   "cell_type": "code",
   "execution_count": null,
   "id": "84ca2450-e572-4b29-876b-e93c496c3125",
   "metadata": {},
   "outputs": [],
   "source": [
    "! gsutil cp $JOB_SPEC_PATH $GCS_JOB_SPEC_PATH\n",
    "! gsutil cat $GCS_JOB_SPEC_PATH"
   ]
  },
  {
   "cell_type": "markdown",
   "id": "aa379ebf-f2fa-481d-995f-774ca6f69774",
   "metadata": {},
   "source": [
    "<div class=\"alert alert-block alert-warning\">\n",
    "    ▶ Proceed to <a href=\"#Configure-and-run-the-job-via-Vertex-AI-Pipeline\"><b>run the job</b></a> on TPU VM in GKE via Vertex AI Pipeline.\n",
    "</div>"
   ]
  },
  {
   "cell_type": "markdown",
   "id": "c2bb5178-064e-4ac0-bced-8a6a798f3bf1",
   "metadata": {},
   "source": [
    "## Configure and run the job via Vertex AI Pipeline"
   ]
  },
  {
   "attachments": {
    "d3d7c156-d5ad-4c02-91f5-273ed04d9975.png": {
     "image/png": "[encoded data removed]"
    }
   },
   "cell_type": "markdown",
   "id": "c39910d3-c06e-449f-a4bd-4d2121ee6564",
   "metadata": {},
   "source": [
    "![image.png](attachment:d3d7c156-d5ad-4c02-91f5-273ed04d9975.png)"
   ]
  },
  {
   "cell_type": "markdown",
   "id": "e91ea0ec-b4b9-4283-8734-27538aec93f0",
   "metadata": {},
   "source": [
    "### Compile the pipeline\n",
    "The pipeline must be compiled to run on Vertex AI Pipeline services. The compiled pipeline is in JSON format with all information and dependencies required to run the pipeline."
   ]
  },
  {
   "cell_type": "code",
   "execution_count": null,
   "id": "b12bc893-79e6-48a4-94ba-2ab208f358b5",
   "metadata": {},
   "outputs": [],
   "source": [
    "from src.pipelines.run_job_tpu_vm_in_gke_pipeline import tpu_in_gke_pipeline as pipeline\n",
    "\n",
    "compiler.Compiler().compile(\n",
    "    pipeline_func=pipeline, \n",
    "    package_path=f'pipeline-tpu-in-gke.json')"
   ]
  },
  {
   "cell_type": "markdown",
   "id": "d8e1ef31",
   "metadata": {},
   "source": [
    "### Configure runtime parameters"
   ]
  },
  {
   "cell_type": "markdown",
   "id": "915fa7e4-94bb-4d3c-9505-b4a7e0e400d4",
   "metadata": {},
   "source": [
    "To run the pipeline, you must configure pipeline runtime parameters:\n",
    "\n",
    "- `project`: Project ID of your environment\n",
    "- `zone`: Google Cloud zone where your resources such as GKE cluster, TPU VM will be deployed and are located.\n",
    "- `cluster`: GKE cluster name\n",
    "- `gke_tpu_pool_name`: GKE node pool name where TPU VM will be registered\n",
    "- `tpu_name`: Name of the TPU VM to create\n",
    "- `tpu_type`: TPU configuration. E.g. `v2-8`, `v3-8`, `v2-32` etc.\n",
    "- `tpu_runtime_version`: Version of TPU software\n",
    "- `job_spec_path`:  Cloud Storage path to the training job specification file (YAML)\n",
    "\n",
    "For convenience, most of these [parameters are set previously](#Configure-Environment-Settings) in the notebook."
   ]
  },
  {
   "cell_type": "code",
   "execution_count": null,
   "id": "0933208f-43e5-482f-af69-08f62539a4a3",
   "metadata": {},
   "outputs": [],
   "source": [
    "pipeline_params = {\n",
    "    \"project\": PROJECT_ID,\n",
    "    \"zone\": ZONE,\n",
    "    \"cluster\": GKE_CLUSTER_NAME,\n",
    "    \"job_spec_path\": GCS_JOB_SPEC_PATH,\n",
    "    \"gke_tpu_pool_name\": GKE_TPU_POOL_NAME,\n",
    "    \"tpu_name\": TPU_NAME,\n",
    "    \"tpu_type\": TPU_TYPE,\n",
    "    \"tpu_runtime_version\": TPU_RUNTIME_VERSION\n",
    "}\n",
    "pipeline_params"
   ]
  },
  {
   "cell_type": "markdown",
   "id": "3577ac39-7250-46ef-bc7d-a0ad4addd9a7",
   "metadata": {},
   "source": [
    "### Submit a pipeline run\n",
    "\n",
    "The pipeline is submitted to Vertex AI Pipelines by defining a `PipelineJob` using Vertex AI SDK for Python client, passing the pipeline runtime paraeters."
   ]
  },
  {
   "cell_type": "code",
   "execution_count": null,
   "id": "f6fff836-7032-4264-a519-2a488ad134f6",
   "metadata": {},
   "outputs": [],
   "source": [
    "# initialize Vertex AI SDK\n",
    "vertex_ai.init(\n",
    "    project=PROJECT_ID,\n",
    "    location=REGION,\n",
    "    staging_bucket=f'gs://{BUCKET_NAME}/staging')"
   ]
  },
  {
   "cell_type": "markdown",
   "id": "19efa7c4-32d7-47b6-a89c-6e16a422532a",
   "metadata": {},
   "source": [
    "You will be able to monitor the run including the logs using the link printed by executing the cell."
   ]
  },
  {
   "cell_type": "code",
   "execution_count": null,
   "id": "0753e35a-fe30-43bf-b2ec-4ac6d24cfff2",
   "metadata": {},
   "outputs": [],
   "source": [
    "labels = {'experiment_id': EXPERIMENT_ID.lower(), 'tpu_type': TPU_TYPE.lower()}\n",
    "\n",
    "# define pipeline job\n",
    "pipeline_job = vertex_ai.PipelineJob(\n",
    "    display_name=PIPELINE_NAME,\n",
    "    job_id=f\"{PIPELINE_NAME}-{get_timestamp()}\",\n",
    "    template_path=f'pipeline-tpu-in-gke.json',\n",
    "    pipeline_root=f'gs://{BUCKET_NAME}/pipeline_runs/{PIPELINE_NAME}',\n",
    "    parameter_values=pipeline_params,\n",
    "    enable_caching=False,\n",
    "    labels=labels\n",
    ")\n",
    "\n",
    "pipeline_job.run(sync=False)\n",
    "pipeline_job.wait_for_resource_creation()"
   ]
  },
  {
   "cell_type": "code",
   "execution_count": null,
   "id": "8730b4a3-8efd-480a-b24a-2bcf9cf2033b",
   "metadata": {},
   "outputs": [],
   "source": [
    "# Check the state of the pipeline\n",
    "pipeline_job.state"
   ]
  },
  {
   "cell_type": "markdown",
   "id": "b7efd6c8-3d34-4aa1-85ab-b04de7b1487b",
   "metadata": {},
   "source": [
    "You can access the pipeline run metadata by pipeline name and load metadata into a Pandas DataFrame. "
   ]
  },
  {
   "cell_type": "code",
   "execution_count": null,
   "id": "55e082af",
   "metadata": {},
   "outputs": [],
   "source": [
    "df_run_metadata = vertex_ai.get_pipeline_df(pipeline=\"pipeline-tpu-in-gke\")\n",
    "df_run_metadata"
   ]
  },
  {
   "cell_type": "markdown",
   "id": "51816f83-9a96-4326-95db-d86fcbc4e8c1",
   "metadata": {},
   "source": [
    "---"
   ]
  }
 ],
 "metadata": {
  "environment": {
   "kernel": "tpu-gke",
   "name": "common-cu110.m93",
   "type": "gcloud",
   "uri": "gcr.io/deeplearning-platform-release/base-cu110:m93"
  },
  "kernelspec": {
   "display_name": "tpu-gke",
   "language": "python",
   "name": "tpu-gke"
  },
  "language_info": {
   "codemirror_mode": {
    "name": "ipython",
    "version": 3
   },
   "file_extension": ".py",
   "mimetype": "text/x-python",
   "name": "python",
   "nbconvert_exporter": "python",
   "pygments_lexer": "ipython3",
   "version": "3.9.13"
  },
  "toc-autonumbering": false,
  "toc-showcode": false,
  "toc-showmarkdowntxt": false,
  "toc-showtags": false,
  "vscode": {
   "interpreter": {
    "hash": "f6451ba29dbf72f9c0ba095760fb67086a7d1c3d483b078525e335323cae1b31"
   }
  }
 },
 "nbformat": 4,
 "nbformat_minor": 5
}
