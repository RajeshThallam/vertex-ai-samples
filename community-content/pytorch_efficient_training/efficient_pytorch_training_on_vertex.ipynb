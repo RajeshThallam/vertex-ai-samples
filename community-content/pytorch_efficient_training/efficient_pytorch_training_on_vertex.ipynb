{
 "cells": [
  {
   "cell_type": "code",
   "execution_count": null,
   "metadata": {
    "id": "copyright"
   },
   "outputs": [],
   "source": [
    "# Copyright 2022 Google LLC\n",
    "#\n",
    "# Licensed under the Apache License, Version 2.0 (the \"License\");\n",
    "# you may not use this file except in compliance with the License.\n",
    "# You may obtain a copy of the License at\n",
    "#\n",
    "#     https://www.apache.org/licenses/LICENSE-2.0\n",
    "#\n",
    "# Unless required by applicable law or agreed to in writing, software\n",
    "# distributed under the License is distributed on an \"AS IS\" BASIS,\n",
    "# WITHOUT WARRANTIES OR CONDITIONS OF ANY KIND, either express or implied.\n",
    "# See the License for the specific language governing permissions and\n",
    "# limitations under the License."
   ]
  },
  {
   "cell_type": "markdown",
   "metadata": {
    "id": "title:generic,gcp"
   },
   "source": [
    "# Efficient PyTorch Training on Vertex AI\n",
    "\n",
    "<table align=\"left\">\n",
    "  <td>\n",
    "    <a href=\"https://colab.research.google.com/github/GoogleCloudPlatform/vertex-ai-samples/blob/main/community-content/pytorch_efficient_training/efficient_pytorch_training_on_vertex.ipynb\">\n",
    "      <img src=\"https://cloud.google.com/ml-engine/images/colab-logo-32px.png\" alt=\"Colab logo\"> Run in Colab\n",
    "    </a>\n",
    "  </td>\n",
    "  <td>\n",
    "    <a href=\"https://github.com/GoogleCloudPlatform/vertex-ai-samples/blob/main/community-content/pytorch_efficient_training/efficient_pytorch_training_on_vertex.ipynb\">\n",
    "      <img src=\"https://cloud.google.com/ml-engine/images/github-logo-32px.png\" alt=\"GitHub logo\">\n",
    "      View on GitHub\n",
    "    </a>\n",
    "  </td>\n",
    "  <td>\n",
    "    <a href=\"https://console.cloud.google.com/vertex-ai/workbench/deploy-notebook?download_url=https://raw.githubusercontent.com/GoogleCloudPlatform/vertex-ai-samples/main/community-content/pytorch_efficient_training/efficient_pytorch_training_on_vertex.ipynb\">\n",
    "      <img src=\"https://lh3.googleusercontent.com/UiNooY4LUgW_oTvpsNhPpQzsstV5W8F7rYgxgGBD85cWJoLmrOzhVs_ksK_vgx40SHs7jCqkTkCk=e14-rj-sc0xffffff-h130-w32\" alt=\"Vertex AI logo\">\n",
    "      Open in Vertex AI Workbench\n",
    "    </a>\n",
    "  </td>\n",
    "</table>\n",
    "<br/><br/><br/>"
   ]
  },
  {
   "cell_type": "markdown",
   "metadata": {
    "id": "overview:mlops"
   },
   "source": [
    "## Overview\n",
    "\n",
    "\n",
    "This tutorial demonstrates how to use Vertex AI for E2E MLOps on Google Cloud in production. This tutorial covers stage 2 : experimentation: get started with Vertex AI Training for PyTorch."
   ]
  },
  {
   "cell_type": "markdown",
   "metadata": {
    "id": "objective:mlops,stage2,get_started_vertex_training_pytorch"
   },
   "source": [
    "### Objective\n",
    "\n",
    "In this tutorial, you learn how to use `Vertex AI Training` for training a PyTorch custom model.\n",
    "\n",
    "This tutorial uses the following Google Cloud ML services:\n",
    "\n",
    "* `Vertex AI Training`\n",
    "* `Vertex AI Model` resource\n",
    "\n",
    "\n",
    "The steps performed include:\n",
    "\n",
    "- Single node training using a Python package.\n",
    "- Report accuracy when hyperparameter tuning.\n",
    "- Save the model artifacts to Cloud Storage using GCSFuse.\n",
    "- Create a `Vertex AI Model` resource."
   ]
  },
  {
   "cell_type": "markdown",
   "metadata": {
    "id": "dataset:pytorch,cifar10,icn"
   },
   "source": [
    "### Dataset\n",
    "\n",
    "The dataset used for this tutorial is the [CIFAR10 dataset](https://pytorch.org/vision/stable/datasets.html#cifar) from [PyTorch Datasets](https://pytorch.org/vision/stable/datasets.html). The version of the dataset is built into TensorFlow. The trained model predicts which type of class an image is from ten classes: airplane, automobile, bird, cat, deer, dog, frog, horse, ship, or truck."
   ]
  },
  {
   "cell_type": "markdown",
   "metadata": {
    "id": "85ee859437ed"
   },
   "source": [
    "### Costs \n",
    "\n",
    "This tutorial uses billable components of Google Cloud:\n",
    "\n",
    "* Vertex AI\n",
    "* Cloud Storage\n",
    "\n",
    "Learn about [Vertex AI\n",
    "pricing](https://cloud.google.com/vertex-ai/pricing) and [Cloud Storage\n",
    "pricing](https://cloud.google.com/storage/pricing), and use the [Pricing\n",
    "Calculator](https://cloud.google.com/products/calculator/)\n",
    "to generate a cost estimate based on your projected usage."
   ]
  },
  {
   "cell_type": "markdown",
   "metadata": {
    "id": "5cd61a5dd9db"
   },
   "source": [
    "### Set up your local development environment\n",
    "\n",
    "**If you are using Colab or Vertex AI Workbench Notebooks**, your environment already meets\n",
    "all the requirements to run this notebook. You can skip this step."
   ]
  },
  {
   "cell_type": "markdown",
   "metadata": {
    "id": "7e689ee0bc3c"
   },
   "source": [
    "**Otherwise**, make sure your environment meets this notebook's requirements.\n",
    "You need the following:\n",
    "\n",
    "* The Google Cloud SDK\n",
    "* Git\n",
    "* Python 3\n",
    "* virtualenv\n",
    "* Jupyter notebook running in a virtual environment with Python 3\n",
    "\n",
    "The Google Cloud guide to [Setting up a Python development\n",
    "environment](https://cloud.google.com/python/setup) and the [Jupyter\n",
    "installation guide](https://jupyter.org/install) provide detailed instructions\n",
    "for meeting these requirements. The following steps provide a condensed set of\n",
    "instructions:\n",
    "\n",
    "1. [Install and initialize the Cloud SDK.](https://cloud.google.com/sdk/docs/)\n",
    "\n",
    "1. [Install Python 3.](https://cloud.google.com/python/setup#installing_python)\n",
    "\n",
    "1. [Install\n",
    "   virtualenv](https://cloud.google.com/python/setup#installing_and_using_virtualenv)\n",
    "   and create a virtual environment that uses Python 3. Activate the virtual environment.\n",
    "\n",
    "1. To install Jupyter, run `pip3 install jupyter` on the\n",
    "command-line in a terminal shell.\n",
    "\n",
    "1. To launch Jupyter, run `jupyter notebook` on the command-line in a terminal shell.\n",
    "\n",
    "1. Open this notebook in the Jupyter Notebook Dashboard."
   ]
  },
  {
   "cell_type": "markdown",
   "metadata": {
    "id": "install_mlops"
   },
   "source": [
    "## Installations\n",
    "\n",
    "Install the following packages to execute this notebook."
   ]
  },
  {
   "cell_type": "code",
   "execution_count": null,
   "metadata": {
    "id": "install_mlops"
   },
   "outputs": [],
   "source": [
    "import os\n",
    "\n",
    "# The Vertex AI Workbench Notebook product has specific requirements\n",
    "IS_WORKBENCH_NOTEBOOK = os.getenv(\"DL_ANACONDA_HOME\") and not os.getenv(\"VIRTUAL_ENV\")\n",
    "IS_USER_MANAGED_WORKBENCH_NOTEBOOK = os.path.exists(\n",
    "    \"/opt/deeplearning/metadata/env_version\"\n",
    ")\n",
    "\n",
    "# Vertex AI Notebook requires dependencies to be installed with '--user'\n",
    "USER_FLAG = \"\"\n",
    "if IS_WORKBENCH_NOTEBOOK:\n",
    "    USER_FLAG = \"--user\"\n",
    "\n",
    "! pip3 install --upgrade google-cloud-aiplatform $USER_FLAG -q\n",
    "! pip3 install --upgrade cloudml-hypertune $USER_FLAG -q\n",
    "! pip3 install --upgrade torchvision $USER_FLAG -q"
   ]
  },
  {
   "cell_type": "markdown",
   "metadata": {
    "id": "restart"
   },
   "source": [
    "### Restart the kernel\n",
    "\n",
    "Once you've installed the additional packages, you need to restart the notebook kernel so it can find the packages."
   ]
  },
  {
   "cell_type": "code",
   "execution_count": null,
   "metadata": {
    "id": "restart"
   },
   "outputs": [],
   "source": [
    "import os\n",
    "\n",
    "if not os.getenv(\"IS_TESTING\"):\n",
    "    # Automatically restart kernel after installs\n",
    "    import IPython\n",
    "\n",
    "    app = IPython.Application.instance()\n",
    "    app.kernel.do_shutdown(True)"
   ]
  },
  {
   "cell_type": "markdown",
   "metadata": {
    "id": "84cd83853240"
   },
   "source": [
    "## Before you begin\n",
    "\n",
    "### Set up your Google Cloud project\n",
    "\n",
    "**The following steps are required, regardless of your notebook environment.**\n",
    "\n",
    "1. [Select or create a Google Cloud project](https://console.cloud.google.com/cloud-resource-manager). When you first create an account, you get a $300 free credit towards your compute/storage costs.\n",
    "\n",
    "1. [Make sure that billing is enabled for your project](https://cloud.google.com/billing/docs/how-to/modify-project).\n",
    "\n",
    "1. [Enable the Vertex AI, BigQuery, Compute Engine and Cloud Storage APIs](https://console.cloud.google.com/flows/enableapi?apiid=aiplatform.googleapis.com,bigquery,compute_component,storage_component).\n",
    "\n",
    "1. If you are running this notebook locally, you need to install the [Cloud SDK](https://cloud.google.com/sdk).\n",
    "\n",
    "1. Enter your project ID in the cell below. Then run the cell to make sure the\n",
    "Cloud SDK uses the right project for all the commands in this notebook.\n",
    "\n",
    "**Note**: Jupyter runs lines prefixed with `!` as shell commands, and it interpolates Python variables prefixed with `$` into these commands."
   ]
  },
  {
   "cell_type": "markdown",
   "metadata": {
    "id": "project_id"
   },
   "source": [
    "#### Set your project ID\n",
    "\n",
    "**If you don't know your project ID**, you may be able to get your project ID using `gcloud`."
   ]
  },
  {
   "cell_type": "code",
   "execution_count": null,
   "metadata": {
    "id": "set_project_id"
   },
   "outputs": [],
   "source": [
    "PROJECT_ID = \"[your-project-id]\"  # @param {type:\"string\"}"
   ]
  },
  {
   "cell_type": "code",
   "execution_count": null,
   "metadata": {
    "id": "autoset_project_id"
   },
   "outputs": [],
   "source": [
    "if PROJECT_ID == \"\" or PROJECT_ID is None or PROJECT_ID == \"[your-project-id]\":\n",
    "    # Get your GCP project id from gcloud\n",
    "    shell_output = ! gcloud config list --format 'value(core.project)' 2>/dev/null\n",
    "    PROJECT_ID = shell_output[0]\n",
    "    print(\"Project ID:\", PROJECT_ID)"
   ]
  },
  {
   "cell_type": "code",
   "execution_count": null,
   "metadata": {
    "id": "set_gcloud_project_id"
   },
   "outputs": [],
   "source": [
    "! gcloud config set project $PROJECT_ID"
   ]
  },
  {
   "cell_type": "markdown",
   "metadata": {
    "id": "region"
   },
   "source": [
    "#### Region\n",
    "\n",
    "You can also change the `REGION` variable, which is used for operations\n",
    "throughout the rest of this notebook.  Below are regions supported for Vertex AI. We recommend that you choose the region closest to you.\n",
    "\n",
    "- Americas: `us-central1`\n",
    "- Europe: `europe-west4`\n",
    "- Asia Pacific: `asia-east1`\n",
    "\n",
    "You may not use a multi-regional bucket for training with Vertex AI. Not all regions provide support for all Vertex AI services.\n",
    "\n",
    "Learn more about [Vertex AI regions](https://cloud.google.com/vertex-ai/docs/general/locations)."
   ]
  },
  {
   "cell_type": "code",
   "execution_count": null,
   "metadata": {
    "id": "region"
   },
   "outputs": [],
   "source": [
    "REGION = \"[your-region]\"  # @param {type: \"string\"}\n",
    "\n",
    "if REGION == \"[your-region]\":\n",
    "    REGION = \"us-central1\""
   ]
  },
  {
   "cell_type": "markdown",
   "metadata": {
    "id": "timestamp"
   },
   "source": [
    "#### Timestamp\n",
    "\n",
    "If you are in a live tutorial session, you might be using a shared test account or project. To avoid name collisions between users on resources created, you create a timestamp for each instance session, and append the timestamp onto the name of resources you create in this tutorial."
   ]
  },
  {
   "cell_type": "code",
   "execution_count": null,
   "metadata": {
    "id": "timestamp"
   },
   "outputs": [],
   "source": [
    "from datetime import datetime\n",
    "\n",
    "TIMESTAMP = datetime.now().strftime(\"%Y%m%d%H%M%S\")"
   ]
  },
  {
   "cell_type": "markdown",
   "metadata": {
    "id": "77c385f0db59"
   },
   "source": [
    "### Authenticate your Google Cloud account\n",
    "\n",
    "**If you are using Vertex AI Workbench Notebooks**, your environment is already authenticated. Skip this step.\n",
    "\n",
    "**If you are using Colab**, run the cell below and follow the instructions when prompted to authenticate your account via oAuth.\n",
    "\n",
    "**Otherwise**, follow these steps:\n",
    "\n",
    "In the Cloud Console, go to the [Create service account key](https://console.cloud.google.com/apis/credentials/serviceaccountkey) page.\n",
    "\n",
    "1. **Click Create service account**.\n",
    "\n",
    "2. In the **Service account name** field, enter a name, and click **Create**.\n",
    "\n",
    "3. In the **Grant this service account access to project** section, click the Role drop-down list. Type \"Vertex AI\" into the filter box, and select **Vertex AI Administrator**. Type \"Storage Object Admin\" into the filter box, and select **Storage Object Admin**.\n",
    "\n",
    "4. Click Create. A JSON file that contains your key downloads to your local environment.\n",
    "\n",
    "5. Enter the path to your service account key as the GOOGLE_APPLICATION_CREDENTIALS variable in the cell below and run the cell."
   ]
  },
  {
   "cell_type": "code",
   "execution_count": null,
   "metadata": {
    "id": "535223fa4b84"
   },
   "outputs": [],
   "source": [
    "# If you are running this notebook in Colab, run this cell and follow the\n",
    "# instructions to authenticate your GCP account. This provides access to your\n",
    "# Cloud Storage bucket and lets you submit training jobs and prediction\n",
    "# requests.\n",
    "\n",
    "import os\n",
    "import sys\n",
    "\n",
    "# If on Vertex AI Workbench, then don't execute this code\n",
    "IS_COLAB = False\n",
    "if not os.path.exists(\"/opt/deeplearning/metadata/env_version\") and not os.getenv(\n",
    "    \"DL_ANACONDA_HOME\"\n",
    "):\n",
    "    if \"google.colab\" in sys.modules:\n",
    "        IS_COLAB = True\n",
    "        from google.colab import auth as google_auth\n",
    "\n",
    "        google_auth.authenticate_user()\n",
    "\n",
    "    # If you are running this notebook locally, replace the string below with the\n",
    "    # path to your service account key and run this cell to authenticate your GCP\n",
    "    # account.\n",
    "    elif not os.getenv(\"IS_TESTING\"):\n",
    "        %env GOOGLE_APPLICATION_CREDENTIALS ''"
   ]
  },
  {
   "cell_type": "markdown",
   "metadata": {
    "id": "bucket:mbsdk"
   },
   "source": [
    "### Create a Cloud Storage bucket\n",
    "\n",
    "**The following steps are required, regardless of your notebook environment.**\n",
    "\n",
    "When you initialize the Vertex SDK for Python, you specify a Cloud Storage staging bucket. The staging bucket is where all the data associated with your dataset and model resources are retained across sessions.\n",
    "\n",
    "Set the name of your Cloud Storage bucket below. Bucket names must be globally unique across all Google Cloud projects, including those outside of your organization."
   ]
  },
  {
   "cell_type": "code",
   "execution_count": null,
   "metadata": {
    "id": "bucket"
   },
   "outputs": [],
   "source": [
    "BUCKET_URI = \"gs://[your-bucket-name]\"  # @param {type:\"string\"}"
   ]
  },
  {
   "cell_type": "code",
   "execution_count": null,
   "metadata": {
    "id": "autoset_bucket"
   },
   "outputs": [],
   "source": [
    "if BUCKET_URI == \"\" or BUCKET_URI is None or BUCKET_URI == \"gs://[your-bucket-name]\":\n",
    "    BUCKET_URI = \"gs://\" + PROJECT_ID + \"aip-\" + TIMESTAMP"
   ]
  },
  {
   "cell_type": "markdown",
   "metadata": {
    "id": "create_bucket"
   },
   "source": [
    "**Only if your bucket doesn't already exist**: Run the following cell to create your Cloud Storage bucket."
   ]
  },
  {
   "cell_type": "code",
   "execution_count": null,
   "metadata": {
    "id": "create_bucket"
   },
   "outputs": [],
   "source": [
    "! gsutil mb -l $REGION $BUCKET_URI"
   ]
  },
  {
   "cell_type": "markdown",
   "metadata": {
    "id": "validate_bucket"
   },
   "source": [
    "Finally, validate access to your Cloud Storage bucket by examining its contents:"
   ]
  },
  {
   "cell_type": "code",
   "execution_count": null,
   "metadata": {
    "id": "validate_bucket"
   },
   "outputs": [],
   "source": [
    "! gsutil ls -al $BUCKET_URI"
   ]
  },
  {
   "cell_type": "markdown",
   "metadata": {
    "id": "setup_vars"
   },
   "source": [
    "### Set up variables\n",
    "\n",
    "Next, set up some variables used throughout the tutorial.\n",
    "### Import libraries and define constants"
   ]
  },
  {
   "cell_type": "code",
   "execution_count": 1,
   "metadata": {},
   "outputs": [],
   "source": [
    "PROJECT_ID = 'rthallam-demo-project'  # Change to your project ID\n",
    "REGION = 'us-central1'   # Change to your region (example: us-central1)\n",
    "BUCKET_NAME = 'cloud-ai-platform-2f444b6a-a742-444b-b91a-c7519f51bd77'  # Change to your bucket name"
   ]
  },
  {
   "cell_type": "code",
   "execution_count": 2,
   "metadata": {},
   "outputs": [],
   "source": [
    "BUCKET_URI = f\"gs://{BUCKET_NAME}\""
   ]
  },
  {
   "cell_type": "code",
   "execution_count": 3,
   "metadata": {},
   "outputs": [],
   "source": [
    "from datetime import datetime\n",
    "\n",
    "def get_timestamp():\n",
    "    \"\"\"return formatted date/time\"\"\"\n",
    "    return datetime.now().strftime(\"%Y%m%d%H%M%S\")"
   ]
  },
  {
   "cell_type": "code",
   "execution_count": 4,
   "metadata": {},
   "outputs": [
    {
     "name": "stdout",
     "output_type": "stream",
     "text": [
      "Servcie Account:  560224572293-compute@developer.gserviceaccount.com\n"
     ]
    }
   ],
   "source": [
    "SERVICE_ACCOUNT = \"[your-service-account]\" \n",
    "\n",
    "if (\n",
    "    SERVICE_ACCOUNT == \"\"\n",
    "    or SERVICE_ACCOUNT is None\n",
    "    or SERVICE_ACCOUNT == \"[your-service-account]\"\n",
    "):\n",
    "    shell_output = !gcloud auth list 2>/dev/null\n",
    "    SERVICE_ACCOUNT = shell_output[2].replace(\"*\", \"\").strip()\n",
    "    print(\"Servcie Account: \", SERVICE_ACCOUNT)"
   ]
  },
  {
   "cell_type": "code",
   "execution_count": 5,
   "metadata": {
    "id": "import_aip:mbsdk"
   },
   "outputs": [],
   "source": [
    "import google.cloud.aiplatform as aiplatform\n",
    "import pandas as pd"
   ]
  },
  {
   "cell_type": "markdown",
   "metadata": {},
   "source": [
    "### Create a TensorBoard instance to be used by the custom training job."
   ]
  },
  {
   "cell_type": "code",
   "execution_count": 7,
   "metadata": {},
   "outputs": [
    {
     "name": "stdout",
     "output_type": "stream",
     "text": [
      "There is an existing TensorBoard resource with TENSORBOARD_RESOURCE_NAME: projects/560224572293/locations/us-central1/tensorboards/3120792231628242944\n"
     ]
    }
   ],
   "source": [
    "TENSORBOARD_NAME = EXPERIMENT_NAME  # @param {type:\"string\"}\n",
    "\n",
    "tb_list = aiplatform.Tensorboard.list(\n",
    "    filter=f'displayName=\"{TENSORBOARD_NAME}\"',\n",
    "    project=PROJECT_ID, \n",
    "    location=REGION\n",
    ")\n",
    "\n",
    "if len(tb_list) == 0:\n",
    "    tensorboard = aiplatform.Tensorboard.create(\n",
    "        display_name=TENSORBOARD_NAME, \n",
    "        project=PROJECT_ID, \n",
    "        location=REGION\n",
    "    )\n",
    "\n",
    "    TENSORBOARD_RESOURCE_NAME = tensorboard.gca_resource.name\n",
    "    print(\"TensorBoard resource name:\", TENSORBOARD_RESOURCE_NAME)\n",
    "else:\n",
    "    TENSORBOARD_RESOURCE_NAME = tb_list[0].to_dict()['name']\n",
    "    print(\"There is an existing TensorBoard resource with TENSORBOARD_RESOURCE_NAME:\", TENSORBOARD_RESOURCE_NAME)"
   ]
  },
  {
   "cell_type": "markdown",
   "metadata": {
    "id": "init_aip:mbsdk"
   },
   "source": [
    "### Initialize Vertex AI SDK for Python\n",
    "\n",
    "Initialize the Vertex AI SDK for Python for your project and corresponding bucket."
   ]
  },
  {
   "cell_type": "code",
   "execution_count": 105,
   "metadata": {
    "id": "init_aip:mbsdk"
   },
   "outputs": [],
   "source": [
    "EXPERIMENT_NAME = \"pytorch-efficient-training-test\"\n",
    "aiplatform.init(project=PROJECT_ID,\n",
    "                location=REGION,\n",
    "                experiment=EXPERIMENT_NAME,\n",
    "                experiment_tensorboard=TENSORBOARD_RESOURCE_NAME,\n",
    "                staging_bucket=BUCKET_URI)"
   ]
  },
  {
   "cell_type": "markdown",
   "metadata": {
    "id": "accelerators:training,mbsdk"
   },
   "source": [
    "#### Set hardware accelerators\n",
    "\n",
    "You can set hardware accelerators for training.\n",
    "\n",
    "Set the variable `TRAIN_GPU/TRAIN_NGPU` to use a container image supporting a GPU and the number of GPUs allocated to the virtual machine (VM) instance. For example, to use a GPU container image with 4 Nvidia Telsa K80 GPUs allocated to each VM, you would specify:\n",
    "\n",
    "    (aip.AcceleratorType.NVIDIA_TESLA_K80, 4)\n",
    "\n",
    "Otherwise specify `(None, None)` to use a container image to run on a CPU.\n",
    "\n",
    "Learn more [here](https://cloud.google.com/vertex-ai/docs/general/locations#accelerators) hardware accelerator support for your region"
   ]
  },
  {
   "cell_type": "code",
   "execution_count": 79,
   "metadata": {
    "id": "accelerators:training,mbsdk"
   },
   "outputs": [],
   "source": [
    "TRAIN_GPU, TRAIN_NGPU = (aiplatform.gapic.AcceleratorType.NVIDIA_TESLA_T4, 4)"
   ]
  },
  {
   "cell_type": "markdown",
   "metadata": {
    "id": "container:training,pytorch"
   },
   "source": [
    "#### Set pre-built containers\n",
    "\n",
    "Set the pre-built Docker container image for training.\n",
    "\n",
    "- Set the variable `TF` to the TensorFlow version of the container image. For example, `2-1` would be version 2.1, and `1-15` would be version 1.15. The following list shows some of the pre-built images available:\n",
    "\n",
    "\n",
    "For the latest list, see [Pre-built containers for training](https://cloud.google.com/ai-platform-unified/docs/training/pre-built-containers)."
   ]
  },
  {
   "cell_type": "code",
   "execution_count": 9,
   "metadata": {
    "id": "container:training,pytorch"
   },
   "outputs": [],
   "source": [
    "TRAIN_VERSION = \"pytorch-gpu.1-11\"\n",
    "TRAIN_IMAGE = \"{}-docker.pkg.dev/vertex-ai/training/{}:latest\".format(\n",
    "    REGION.split(\"-\")[0], TRAIN_VERSION\n",
    ")"
   ]
  },
  {
   "cell_type": "markdown",
   "metadata": {
    "id": "machine:training"
   },
   "source": [
    "#### Set machine type\n",
    "\n",
    "Next, set the machine type to use for training.\n",
    "\n",
    "- Set the variable `TRAIN_COMPUTE` to configure  the compute resources for the VMs you will use for for training.\n",
    " - `machine type`\n",
    "     - `n1-standard`: 3.75GB of memory per vCPU.\n",
    "     - `n1-highmem`: 6.5GB of memory per vCPU\n",
    "     - `n1-highcpu`: 0.9 GB of memory per vCPU\n",
    " - `vCPUs`: number of \\[2, 4, 8, 16, 32, 64, 96 \\]\n",
    "\n",
    "*Note: The following is not supported for training:*\n",
    "\n",
    " - `standard`: 2 vCPUs\n",
    " - `highcpu`: 2, 4 and 8 vCPUs\n",
    "\n",
    "*Note: You may also use n2 and e2 machine types for training and deployment, but they do not support GPUs*."
   ]
  },
  {
   "cell_type": "code",
   "execution_count": 10,
   "metadata": {
    "id": "machine:training"
   },
   "outputs": [
    {
     "name": "stdout",
     "output_type": "stream",
     "text": [
      "Train machine type n1-standard-8\n"
     ]
    }
   ],
   "source": [
    "MACHINE_TYPE = \"n1-standard\"\n",
    "VCPU = \"8\"\n",
    "TRAIN_COMPUTE = MACHINE_TYPE + \"-\" + VCPU\n",
    "print(\"Train machine type\", TRAIN_COMPUTE)"
   ]
  },
  {
   "cell_type": "markdown",
   "metadata": {
    "id": "pytorch_intro"
   },
   "source": [
    "## Introduction to PyTorch training\n",
    "\n",
    "The PyTorch package supports both single node and distributed model training.\n",
    "\n",
    "Once you have trained a PyTorch model, you will want to save it at a Cloud Storage location, so it can subsequently be uploaded to a `Vertex AI Model` resource.\n",
    "The PyTorch package does not have support to save the model to a Cloud Storage location. Instead, you will do the following steps to save to a Cloud Storage location.\n",
    "\n",
    "1. Save the in-memory model to the local filesystem (e.g., model.pth).\n",
    "2. Use gsutil to copy the local copy to the specified Cloud Storage location.\n",
    "\n",
    "*Note*: You can do hyperparameter tuning with a PyTorch model."
   ]
  },
  {
   "cell_type": "markdown",
   "metadata": {
    "id": "examine_training_package:pytorch"
   },
   "source": [
    "### Examine the training package\n",
    "\n",
    "#### Package layout\n",
    "\n",
    "Before you start the training, you will look at how a Python package is assembled for a custom training job. When unarchived, the package contains the following directory/file layout.\n",
    "\n",
    "- PKG-INFO\n",
    "- README.md\n",
    "- setup.cfg\n",
    "- setup.py\n",
    "- trainer\n",
    "  - \\_\\_init\\_\\_.py\n",
    "  - task.py\n",
    "\n",
    "The files `setup.cfg` and `setup.py` are the instructions for installing the package into the operating environment of the Docker image.\n",
    "\n",
    "The file `trainer/task.py` is the Python script for executing the custom training job. *Note*, when we referred to it in the worker pool specification, we replace the directory slash with a dot (`trainer.task`) and dropped the file suffix (`.py`).\n",
    "\n",
    "#### Package Assembly\n",
    "\n",
    "In the following cells, you will assemble the training package."
   ]
  },
  {
   "cell_type": "code",
   "execution_count": null,
   "metadata": {
    "id": "examine_training_package:pytorch"
   },
   "outputs": [],
   "source": [
    "# Make folder for Python training script\n",
    "! tree"
   ]
  },
  {
   "cell_type": "code",
   "execution_count": null,
   "metadata": {},
   "outputs": [],
   "source": [
    "! cat custom/setup.py"
   ]
  },
  {
   "cell_type": "markdown",
   "metadata": {
    "id": "taskpy_contents:cifar10,pytorch"
   },
   "source": [
    "### Create the task script for the Python training package\n",
    "\n",
    "Next, you create the `task.py` script for driving the training package. Some noteable steps include:\n",
    "\n",
    "- Command-line arguments:\n",
    "    - `model-dir`: The location to save the trained model. When using Vertex AI custom training, the location will be specified in the environment variable: `AIP_MODEL_DIR`,\n",
    "    - `batch_size`/`lr` : Hyperparameter tuning variables\n",
    "    - `distribute`: single node or distributed training.\n",
    "- Data preprocessing (`get_data()`):\n",
    "    - Download the dataset and split into training and test.\n",
    "- Model architecture (`getmodel()`):\n",
    "    - Get or build the model architecture.\n",
    "- Training (`train_model()`):\n",
    "    - Trains the model\n",
    "- Evaluation (`evaluate_model()`):\n",
    "    - Evaluates the model.\n",
    "    - If hyperparameter tuning, reports the metric for accuracy.\n",
    "- Model artifact saving\n",
    "    - Saves the model artifacts and evaluation metrics where the Cloud Storage location specified by `model-dir`."
   ]
  },
  {
   "cell_type": "code",
   "execution_count": null,
   "metadata": {
    "id": "taskpy_contents:cifar10,pytorch"
   },
   "outputs": [],
   "source": [
    "! cat trainer/main.py"
   ]
  },
  {
   "cell_type": "markdown",
   "metadata": {
    "id": "test_package_locally"
   },
   "source": [
    "### Test training package locally\n",
    "\n",
    "Next, test your completed training package locally with just a few epochs."
   ]
  },
  {
   "cell_type": "code",
   "execution_count": null,
   "metadata": {
    "id": "test_package_locally,pytorch"
   },
   "outputs": [],
   "source": [
    "! export WDS_TRAIN_PATH=\"/home/jupyter/data/imagenet/imagenet-shards/train-{000020..000039}.tar\" && \\\n",
    "  export WDS_EVAL_PATH=\"/home/jupyter/data/imagenet/imagenet-shards/validation-{000000..000021}.tar\" && \\\n",
    "  export PYTHONPATH=\"${PYTHONPATH}:${PWD}/custom/\" && \\\n",
    "  python -m trainer.main \\\n",
    "    --train_data_path ${WDS_TRAIN_PATH} \\\n",
    "    --val_data_path ${WDS_EVAL_PATH} \\\n",
    "    --distributed-strategy=ddp \\\n",
    "    --webdataset \\\n",
    "    --epochs=2"
   ]
  },
  {
   "cell_type": "markdown",
   "metadata": {},
   "source": [
    "#### Preparing container with training script"
   ]
  },
  {
   "cell_type": "code",
   "execution_count": 11,
   "metadata": {},
   "outputs": [
    {
     "name": "stdout",
     "output_type": "stream",
     "text": [
      "Overwriting Dockerfile\n"
     ]
    }
   ],
   "source": [
    "%%writefile Dockerfile\n",
    "FROM us-docker.pkg.dev/vertex-ai/training/pytorch-gpu.1-11:latest\n",
    "\n",
    "COPY ./custom /custom\n",
    "\n",
    "WORKDIR /custom\n",
    "\n",
    "RUN pip install -r requirements.txt\n",
    "\n",
    "# Set up the entry point to invoke the trainer.\n",
    "ENTRYPOINT [\"python\", \"-m\", \"trainer.main\"]"
   ]
  },
  {
   "cell_type": "code",
   "execution_count": 12,
   "metadata": {},
   "outputs": [
    {
     "data": {
      "text/plain": [
       "'gcr.io/rthallam-demo-project/pytorch_eff_training'"
      ]
     },
     "execution_count": 12,
     "metadata": {},
     "output_type": "execute_result"
    }
   ],
   "source": [
    "CUSTOM_TRAIN_IMAGE_URI = f\"gcr.io/{PROJECT_ID}/pytorch_eff_training\"\n",
    "CUSTOM_TRAIN_IMAGE_URI"
   ]
  },
  {
   "cell_type": "code",
   "execution_count": null,
   "metadata": {},
   "outputs": [],
   "source": [
    "!gcloud builds submit \\\n",
    "   --region $REGION \\\n",
    "   --tag $CUSTOM_TRAIN_IMAGE_URI \\\n",
    "   --timeout \"2h\" \\\n",
    "   --machine-type=e2-highcpu-32 \\\n",
    "   ."
   ]
  },
  {
   "cell_type": "markdown",
   "metadata": {
    "id": "tarball_training_script"
   },
   "source": [
    "#### Store training script on your Cloud Storage bucket\n",
    "\n",
    "Next, you package the training folder into a compressed tar ball, and then store it in your Cloud Storage bucket."
   ]
  },
  {
   "cell_type": "code",
   "execution_count": null,
   "metadata": {},
   "outputs": [],
   "source": [
    "TRAIN_VERSION = \"pytorch-gpu.1-9\"\n",
    "TRAIN_IMAGE = \"{}-docker.pkg.dev/vertex-ai/training/{}:latest\".format(\n",
    "    REGION.split(\"-\")[0], TRAIN_VERSION\n",
    ")"
   ]
  },
  {
   "cell_type": "code",
   "execution_count": null,
   "metadata": {},
   "outputs": [],
   "source": [
    "python_package_gcs_uri = f\"{BUCKET_URI}/experiments/pytorch_eff_training/scripts/trainer_imagenet.tar.gz\"    \n",
    "python_module_name = \"trainer.main\""
   ]
  },
  {
   "cell_type": "code",
   "execution_count": null,
   "metadata": {
    "id": "tarball_training_script"
   },
   "outputs": [],
   "source": [
    "! rm -f custom.tar.gz\n",
    "! tar --exclude=\"__pycache__\" --exclude=\".ipynb_checkpoints\" -czvf custom.tar.gz custom\n",
    "! gsutil cp custom.tar.gz $python_package_gcs_uri"
   ]
  },
  {
   "cell_type": "code",
   "execution_count": null,
   "metadata": {},
   "outputs": [],
   "source": [
    "! tar tvf custom.tar.gz"
   ]
  },
  {
   "cell_type": "markdown",
   "metadata": {},
   "source": [
    "## Creating filestore instance as NFS mount"
   ]
  },
  {
   "cell_type": "code",
   "execution_count": 50,
   "metadata": {},
   "outputs": [],
   "source": [
    "! gcloud services enable file.googleapis.com\n",
    "! gcloud services enable servicenetworking.googleapis.com \n",
    "\n",
    "PROJECT_NUMBER=!gcloud projects list --filter=\"project_id:$PROJECT_ID\" --format=\"value(PROJECT_NUMBER)\"\n",
    "PROJECT_NUMBER=str(PROJECT_NUMBER).strip('[').strip(']').strip(\"'\")\n",
    "\n",
    "FILESTORE_ID='nfs-imagenet'\n",
    "FILE_SHARE_NAME= 'data' #@param {type:\"string\"}\n",
    "ZONE='us-central1-a' #@param {type:\"string\"}\n",
    "NETWORK=f'projects/{PROJECT_NUMBER}/global/networks/default'\n",
    "\n",
    "# This is for display only; you can name the range anything.\n",
    "PEERING_RANGE_NAME = \"google-reserved-range\""
   ]
  },
  {
   "cell_type": "code",
   "execution_count": 51,
   "metadata": {},
   "outputs": [
    {
     "name": "stdout",
     "output_type": "stream",
     "text": [
      "\u001b[1;31mERROR:\u001b[0m (gcloud.compute.addresses.create) Could not fetch resource:\n",
      " - The resource 'projects/rthallam-demo-project/global/addresses/google-reserved-range' already exists\n",
      "\n"
     ]
    }
   ],
   "source": [
    "# NOTE: `prefix-length=16` means a CIDR block with mask /16 will be\n",
    "# reserved for use by Google services, such as Vertex AI.\n",
    "!gcloud compute addresses create google-reserved-range \\\n",
    "  --global \\\n",
    "  --prefix-length=16 \\\n",
    "  --description=\"peering range for Google service\" \\\n",
    "  --network=default \\\n",
    "  --purpose=VPC_PEERING"
   ]
  },
  {
   "cell_type": "code",
   "execution_count": null,
   "metadata": {},
   "outputs": [],
   "source": [
    "# Create the VPC connection.\n",
    "!gcloud services vpc-peerings connect \\\n",
    "  --service=servicenetworking.googleapis.com \\\n",
    "  --network=default \\\n",
    "  --ranges=google-reserved-range \\\n",
    "  --project=rthallam-demo-project"
   ]
  },
  {
   "cell_type": "code",
   "execution_count": 55,
   "metadata": {},
   "outputs": [
    {
     "name": "stdout",
     "output_type": "stream",
     "text": [
      "Waiting for [operation-1670824635970-5ef9b2ce8b1e9-dcd69560-c821f8e3] to finish\n",
      "...done.                                                                       \n"
     ]
    }
   ],
   "source": [
    "############# Create a Filestore Instance ############\n",
    "# See https://cloud.google.com/filestore/docs/creating-instances#instructions_for_creating_an_instance \n",
    "# for more details in case you want to use different flag values or specify extra configs.\n",
    "# For network, please use full name and always PRIVATE_SERVICE_ACCESS mode.\n",
    "! gcloud filestore instances create {FILESTORE_ID} \\\n",
    "    --location={REGION}-a \\\n",
    "    --tier=basic-ssd \\\n",
    "    --file-share=name={FILE_SHARE_NAME},capacity=2.5TB \\\n",
    "    --network=name={NETWORK},connect-mode=PRIVATE_SERVICE_ACCESS"
   ]
  },
  {
   "cell_type": "code",
   "execution_count": 73,
   "metadata": {},
   "outputs": [
    {
     "data": {
      "text/plain": [
       "'172.26.0.2'"
      ]
     },
     "execution_count": 73,
     "metadata": {},
     "output_type": "execute_result"
    }
   ],
   "source": [
    "# get IP address for mounting\n",
    "FILESTORE_DESC = !gcloud filestore instances describe {FILESTORE_ID} \\\n",
    "    --project={PROJECT_ID} \\\n",
    "    --location={REGION}-a \\\n",
    "    --format='value(networks.ipAddresses)'\n",
    "FILESTORE_IP_ADDRESS = FILESTORE_DESC[-1].translate( { ord(i): None for i in \"'[]\"} )\n",
    "FILESTORE_IP_ADDRESS"
   ]
  },
  {
   "cell_type": "code",
   "execution_count": 90,
   "metadata": {},
   "outputs": [
    {
     "name": "stdout",
     "output_type": "stream",
     "text": [
      "createTime: '2022-12-12T05:57:16.891770393Z'\n",
      "fileShares:\n",
      "- capacityGb: '2560'\n",
      "  name: data\n",
      "name: projects/rthallam-demo-project/locations/us-central1-a/instances/nfs-imagenet\n",
      "networks:\n",
      "- connectMode: PRIVATE_SERVICE_ACCESS\n",
      "  ipAddresses:\n",
      "  - 172.26.0.2\n",
      "  network: projects/560224572293/global/networks/default\n",
      "  reservedIpRange: 172.26.0.0/29\n",
      "state: READY\n",
      "tier: BASIC_SSD\n"
     ]
    }
   ],
   "source": [
    "!gcloud filestore instances describe {FILESTORE_ID} \\\n",
    "    --project={PROJECT_ID} \\\n",
    "    --location={REGION}-a"
   ]
  },
  {
   "cell_type": "code",
   "execution_count": 74,
   "metadata": {},
   "outputs": [
    {
     "name": "stdout",
     "output_type": "stream",
     "text": [
      "sudo mkdir -p ~/data\n",
      "sudo mount -o rw,intr 172.26.0.2:/data ~/data\n"
     ]
    }
   ],
   "source": [
    "print(f'sudo mkdir -p ~/{FILE_SHARE_NAME}')\n",
    "print(f'sudo mount -o rw,intr {FILESTORE_IP_ADDRESS}:/{FILE_SHARE_NAME} ~/{FILE_SHARE_NAME}')"
   ]
  },
  {
   "cell_type": "code",
   "execution_count": null,
   "metadata": {},
   "outputs": [],
   "source": [
    "! sudo mkdir -p mount-point-directory"
   ]
  },
  {
   "cell_type": "markdown",
   "metadata": {
    "id": "create_custom_pp_training_job:mbsdk"
   },
   "source": [
    "### Create and run custom training job\n",
    "\n",
    "\n",
    "To train a custom model, you perform two steps: 1) create a custom training job, and 2) run the job.\n",
    "\n",
    "#### Create custom training job\n",
    "\n",
    "A custom training job is created with the `CustomTrainingJob` class, with the following parameters:\n",
    "\n",
    "- `display_name`: The human readable name for the custom training job.\n",
    "- `container_uri`: The training container image.\n",
    "\n",
    "- `python_package_gcs_uri`: The location of the Python training package as a tarball.\n",
    "- `python_module_name`: The relative path to the training script in the Python package.\n",
    "- `model_serving_container_uri`: The container image for deploying the model.\n",
    "\n",
    "*Note:* There is no requirements parameter. You specify any requirements in the `setup.py` script in your Python package."
   ]
  },
  {
   "cell_type": "code",
   "execution_count": null,
   "metadata": {},
   "outputs": [],
   "source": [
    "%%writefile custom/copy_to_local.sh\n",
    "#!/bin/bash -xv\n",
    "echo \"Copying data from \"$1\" to /data\"\n",
    "mkdir -p data\n",
    "gcloud storage cp --recursive $1 ~/data/"
   ]
  },
  {
   "cell_type": "code",
   "execution_count": null,
   "metadata": {
    "id": "create_custom_pp_training_job:mbsdk"
   },
   "outputs": [],
   "source": [
    "\n",
    "job = aiplatform.CustomPythonPackageTrainingJob(\n",
    "    display_name=DISPLAY_NAME,\n",
    "    python_package_gcs_uri=python_package_gcs_uri,\n",
    "    python_module_name=python_module_name,\n",
    "    container_uri=TRAIN_IMAGE,\n",
    "    staging_bucket=BUCKET_URI\n",
    ")"
   ]
  },
  {
   "cell_type": "markdown",
   "metadata": {
    "id": "prepare_custom_cmdargs:cifar10,pytorch"
   },
   "source": [
    "### Prepare your command-line arguments\n",
    "\n",
    "Now define the command-line arguments for your custom training container:\n",
    "\n",
    "- `args`: The command-line arguments to pass to the executable that is set as the entry point into the container.\n",
    "  - `--model-dir` : For our demonstrations, we use this command-line argument to specify where to store the model artifacts.\n",
    "      - direct: You pass the Cloud Storage location as a command line argument to your training script (set variable `DIRECT = True`), or\n",
    "      - indirect: The service passes the Cloud Storage location as the environment variable `AIP_MODEL_DIR` to your training script (set variable `DIRECT = False`). In this case, you tell the service the model artifact location in the job specification.\n",
    "  - `--BLAH`:"
   ]
  },
  {
   "cell_type": "code",
   "execution_count": 38,
   "metadata": {
    "id": "prepare_custom_cmdargs:cifar10,pytorch"
   },
   "outputs": [
    {
     "name": "stdout",
     "output_type": "stream",
     "text": [
      "CMD_ARGS \n",
      "--train_data_path\n",
      "/gcs/rt-image-datasets/data/images/imagenet/imagenet_tar/train-{000020..000039}.tar\n",
      "--val_data_path\n",
      "/gcs/rt-image-datasets/data/images/imagenet/imagenet_tar/validation-{000000..000021}.tar\n",
      "--distributed-strategy\n",
      "na\n",
      "--gpus\n",
      "1\n",
      "--batch-size\n",
      "32\n",
      "--epoch\n",
      "5\n",
      "--webdataset\n",
      "BASE_OUTPUT_DIR = gs://cloud-ai-platform-2f444b6a-a742-444b-b91a-c7519f51bd77/experiments/pytorch_eff_training/runs/pytorch_imagenet_eff_20221212045823/\n"
     ]
    }
   ],
   "source": [
    "# Set command line parameters for training job\n",
    "\n",
    "DISPLAY_NAME = \"pytorch_imagenet_eff_\" + get_timestamp()\n",
    "\n",
    "REPLICA_COUNT = 1\n",
    "BATCH_SIZE = 32\n",
    "EPOCHS = 5\n",
    "WDS_TRAIN_PATH = '/gcs/rt-image-datasets/data/images/imagenet/imagenet_tar/train-{000020..000039}.tar' \n",
    "WDS_EVAL_PATH = '/gcs/rt-image-datasets/data/images/imagenet/imagenet_tar/validation-{000000..000021}.tar'\n",
    "BASE_OUTPUT_DIR = f'{BUCKET_URI}/experiments/pytorch_eff_training/runs/{DISPLAY_NAME}/'\n",
    "DIST_STRATEGY = 'na'\n",
    "WEBDATASET = True\n",
    "REDUCTION_SERVER = False\n",
    "\n",
    "CMDARGS = [\n",
    "    f'--train_data_path', f'{WDS_TRAIN_PATH}',\n",
    "    f'--val_data_path', f'{WDS_EVAL_PATH}', \n",
    "    f'--distributed-strategy', f'{DIST_STRATEGY}',\n",
    "    f'--gpus', f'{TRAIN_NGPU}',\n",
    "    f'--batch-size', f'{BATCH_SIZE}',\n",
    "    f'--epoch', f'{EPOCHS}',\n",
    "    f'--webdataset' if WEBDATASET else ''\n",
    "]\n",
    "\n",
    "\n",
    "print(f\"CMD_ARGS \\n{chr(10).join(CMDARGS)}\")\n",
    "print(f\"BASE_OUTPUT_DIR = {BASE_OUTPUT_DIR}\")"
   ]
  },
  {
   "cell_type": "code",
   "execution_count": 42,
   "metadata": {},
   "outputs": [
    {
     "name": "stdout",
     "output_type": "stream",
     "text": [
      "EXPERIMENT_RUN_NAME = na-wds-gcsfuse\n"
     ]
    },
    {
     "data": {
      "text/plain": [
       "{'Replica Count': 1,\n",
       " 'Number of GPU': 1,\n",
       " 'Batch Size': 32,\n",
       " 'Epochs': 5,\n",
       " 'Strategy': 'na',\n",
       " 'WebDataset': 'Y',\n",
       " 'Reduction Server': 'N',\n",
       " 'Storage': 'gcsfuse'}"
      ]
     },
     "execution_count": 42,
     "metadata": {},
     "output_type": "execute_result"
    }
   ],
   "source": [
    "# Set experiment parameters\n",
    "exp_params = {\n",
    "    'Replica Count': REPLICA_COUNT,\n",
    "    'Number of GPU': TRAIN_NGPU,\n",
    "    'Batch Size': BATCH_SIZE,\n",
    "    'Epochs': EPOCHS,\n",
    "    # variables\n",
    "    'Strategy': DIST_STRATEGY,\n",
    "    'WebDataset': 'Y' if WEBDATASET else 'N',\n",
    "    'Reduction Server': 'Y' if REDUCTION_SERVER else 'N',\n",
    "    'Storage': 'gcsfuse' # local, nfs\n",
    "}\n",
    "\n",
    "\n",
    "EXPERIMENT_RUN_NAME = (exp_params[\"Strategy\"] +\n",
    "                       (\"-wds\" if WEBDATASET else \"\") +\n",
    "                       (\"-gcsfuse\" if WDS_TRAIN_PATH.startswith(\"/gcs\") else \"\") +\n",
    "                       (\"-reductionserver\" if REDUCTION_SERVER else \"\")\n",
    "                      )\n",
    "print(f\"EXPERIMENT_RUN_NAME = {EXPERIMENT_RUN_NAME}\")\n",
    "exp_params"
   ]
  },
  {
   "cell_type": "markdown",
   "metadata": {
    "id": "run_custom_job:mbsdk"
   },
   "source": [
    "#### Run the custom training job\n",
    "\n",
    "Next, you run the custom job to start the training job by invoking the method `run`, with the following parameters:\n",
    "\n",
    "- `model_display_name`: The human readable name for the `Model` resource.\n",
    "- `args`: The command-line arguments to pass to the training script.\n",
    "- `replica_count`: The number of compute instances for training (replica_count = 1 is single node training).\n",
    "- `machine_type`: The machine type for the compute instances.\n",
    "- `accelerator_type`: The hardware accelerator type.\n",
    "- `accelerator_count`: The number of accelerators to attach to a worker replica.\n",
    "- `base_output_dir`: The Cloud Storage location to write the model artifacts to.\n",
    "- `sync`: Whether to block until completion of the job."
   ]
  },
  {
   "cell_type": "code",
   "execution_count": 43,
   "metadata": {},
   "outputs": [
    {
     "name": "stdout",
     "output_type": "stream",
     "text": [
      "Associating projects/560224572293/locations/us-central1/metadataStores/default/contexts/pytorch-efficient-training-test-na-wds-gcsfuse to Experiment: pytorch-efficient-training-test\n",
      "Training Output directory:\n",
      "gs://cloud-ai-platform-2f444b6a-a742-444b-b91a-c7519f51bd77/experiments/pytorch_eff_training/runs/pytorch_imagenet_eff_20221212045823/ \n",
      "View Training:\n",
      "https://console.cloud.google.com/ai/platform/locations/us-central1/training/6540445055264489472?project=560224572293\n",
      "CustomContainerTrainingJob projects/560224572293/locations/us-central1/trainingPipelines/6540445055264489472 current state:\n",
      "PipelineState.PIPELINE_STATE_RUNNING\n",
      "View backing custom job:\n",
      "https://console.cloud.google.com/ai/platform/locations/us-central1/training/5393645631401099264?project=560224572293\n",
      "View tensorboard:\n",
      "https://us-central1.tensorboard.googleusercontent.com/experiment/projects+560224572293+locations+us-central1+tensorboards+3120792231628242944+experiments+5393645631401099264\n",
      "CustomContainerTrainingJob projects/560224572293/locations/us-central1/trainingPipelines/6540445055264489472 current state:\n",
      "PipelineState.PIPELINE_STATE_RUNNING\n",
      "CustomContainerTrainingJob projects/560224572293/locations/us-central1/trainingPipelines/6540445055264489472 current state:\n",
      "PipelineState.PIPELINE_STATE_RUNNING\n",
      "CustomContainerTrainingJob projects/560224572293/locations/us-central1/trainingPipelines/6540445055264489472 current state:\n",
      "PipelineState.PIPELINE_STATE_RUNNING\n",
      "CustomContainerTrainingJob projects/560224572293/locations/us-central1/trainingPipelines/6540445055264489472 current state:\n",
      "PipelineState.PIPELINE_STATE_RUNNING\n",
      "CustomContainerTrainingJob projects/560224572293/locations/us-central1/trainingPipelines/6540445055264489472 current state:\n",
      "PipelineState.PIPELINE_STATE_RUNNING\n",
      "CustomContainerTrainingJob projects/560224572293/locations/us-central1/trainingPipelines/6540445055264489472 current state:\n",
      "PipelineState.PIPELINE_STATE_RUNNING\n",
      "CustomContainerTrainingJob projects/560224572293/locations/us-central1/trainingPipelines/6540445055264489472 current state:\n",
      "PipelineState.PIPELINE_STATE_RUNNING\n",
      "CustomContainerTrainingJob projects/560224572293/locations/us-central1/trainingPipelines/6540445055264489472 current state:\n",
      "PipelineState.PIPELINE_STATE_RUNNING\n",
      "CustomContainerTrainingJob projects/560224572293/locations/us-central1/trainingPipelines/6540445055264489472 current state:\n",
      "PipelineState.PIPELINE_STATE_RUNNING\n",
      "CustomContainerTrainingJob projects/560224572293/locations/us-central1/trainingPipelines/6540445055264489472 current state:\n",
      "PipelineState.PIPELINE_STATE_RUNNING\n",
      "CustomContainerTrainingJob projects/560224572293/locations/us-central1/trainingPipelines/6540445055264489472 current state:\n",
      "PipelineState.PIPELINE_STATE_RUNNING\n",
      "CustomContainerTrainingJob run completed. Resource name: projects/560224572293/locations/us-central1/trainingPipelines/6540445055264489472\n",
      "Training did not produce a Managed Model returning None. Training Pipeline projects/560224572293/locations/us-central1/trainingPipelines/6540445055264489472 is not configured to upload a Model. Create the Training Pipeline with model_serving_container_image_uri and model_display_name passed in. Ensure that your training script saves to model to os.environ['AIP_MODEL_DIR'].\n"
     ]
    }
   ],
   "source": [
    "aiplatform.start_run(EXPERIMENT_RUN_NAME)\n",
    "\n",
    "# log parameters to the experiment\n",
    "aiplatform.log_params(exp_params)\n",
    "\n",
    "# create job\n",
    "job = aiplatform.CustomContainerTrainingJob(\n",
    "    display_name=DISPLAY_NAME, \n",
    "    container_uri=CUSTOM_TRAIN_IMAGE_URI,\n",
    "    staging_bucket=BUCKET_URI\n",
    ")\n",
    "\n",
    "# submit job\n",
    "job.run(\n",
    "    args=CMDARGS,\n",
    "    replica_count=1,\n",
    "    machine_type=TRAIN_COMPUTE,\n",
    "    boot_disk_type='pd-ssd',\n",
    "    boot_disk_size_gb=100,\n",
    "    accelerator_type=TRAIN_GPU.name,\n",
    "    accelerator_count=TRAIN_NGPU,\n",
    "    base_output_dir=BASE_OUTPUT_DIR,\n",
    "    service_account=SERVICE_ACCOUNT,\n",
    "    tensorboard=TENSORBOARD_RESOURCE_NAME,\n",
    "    sync=True,\n",
    ")\n",
    "\n",
    "if job.state.value == 4 :\n",
    "    # log metrics to the experiment\n",
    "    metrics_path = f'{BASE_OUTPUT_DIR}checkpoints/metrics/summary_metrics.json'\n",
    "    metrics_cols = ['train_time', 'eval_time', 'data_load_time', 'data_througput']\n",
    "    metrics_df = pd.read_json(metrics_path, typ='series')\n",
    "    aiplatform.log_metrics(metrics_df[metrics_cols].to_dict())\n",
    "\n",
    "\n",
    "aiplatform.end_run()"
   ]
  },
  {
   "cell_type": "markdown",
   "metadata": {},
   "source": [
    "#### Compare the experiment results"
   ]
  },
  {
   "cell_type": "code",
   "execution_count": 112,
   "metadata": {},
   "outputs": [
    {
     "data": {
      "text/html": [
       "<div>\n",
       "<style scoped>\n",
       "    .dataframe tbody tr th:only-of-type {\n",
       "        vertical-align: middle;\n",
       "    }\n",
       "\n",
       "    .dataframe tbody tr th {\n",
       "        vertical-align: top;\n",
       "    }\n",
       "\n",
       "    .dataframe thead th {\n",
       "        text-align: right;\n",
       "    }\n",
       "</style>\n",
       "<table border=\"1\" class=\"dataframe\">\n",
       "  <thead>\n",
       "    <tr style=\"text-align: right;\">\n",
       "      <th></th>\n",
       "      <th>run_name</th>\n",
       "      <th>param.Storage</th>\n",
       "      <th>param.Strategy</th>\n",
       "      <th>param.WebDataset</th>\n",
       "      <th>metric.train_time</th>\n",
       "    </tr>\n",
       "  </thead>\n",
       "  <tbody>\n",
       "    <tr>\n",
       "      <th>6</th>\n",
       "      <td>ddp-wds-gcsfuse</td>\n",
       "      <td>NaN</td>\n",
       "      <td>ddp</td>\n",
       "      <td>Y</td>\n",
       "      <td>119.211</td>\n",
       "    </tr>\n",
       "    <tr>\n",
       "      <th>2</th>\n",
       "      <td>ddp-wds-nfs</td>\n",
       "      <td>nfs</td>\n",
       "      <td>ddp</td>\n",
       "      <td>Y</td>\n",
       "      <td>112.309</td>\n",
       "    </tr>\n",
       "    <tr>\n",
       "      <th>4</th>\n",
       "      <td>dp-wds-gcsfuse</td>\n",
       "      <td>gcsfuse</td>\n",
       "      <td>dp</td>\n",
       "      <td>Y</td>\n",
       "      <td>155.214</td>\n",
       "    </tr>\n",
       "    <tr>\n",
       "      <th>0</th>\n",
       "      <td>dp-wds-nfs</td>\n",
       "      <td>nfs</td>\n",
       "      <td>dp</td>\n",
       "      <td>Y</td>\n",
       "      <td>156.736</td>\n",
       "    </tr>\n",
       "    <tr>\n",
       "      <th>5</th>\n",
       "      <td>fsdp-wds-gcsfuse</td>\n",
       "      <td>gcsfuse</td>\n",
       "      <td>fsdp</td>\n",
       "      <td>Y</td>\n",
       "      <td>150.825</td>\n",
       "    </tr>\n",
       "    <tr>\n",
       "      <th>1</th>\n",
       "      <td>fsdp-wds-nfs</td>\n",
       "      <td>nfs</td>\n",
       "      <td>fsdp</td>\n",
       "      <td>Y</td>\n",
       "      <td>147.118</td>\n",
       "    </tr>\n",
       "    <tr>\n",
       "      <th>3</th>\n",
       "      <td>na-wds-gcsfuse</td>\n",
       "      <td>gcsfuse</td>\n",
       "      <td>na</td>\n",
       "      <td>Y</td>\n",
       "      <td>225.544</td>\n",
       "    </tr>\n",
       "  </tbody>\n",
       "</table>\n",
       "</div>"
      ],
      "text/plain": [
       "           run_name param.Storage param.Strategy param.WebDataset  \\\n",
       "6   ddp-wds-gcsfuse           NaN            ddp                Y   \n",
       "2       ddp-wds-nfs           nfs            ddp                Y   \n",
       "4    dp-wds-gcsfuse       gcsfuse             dp                Y   \n",
       "0        dp-wds-nfs           nfs             dp                Y   \n",
       "5  fsdp-wds-gcsfuse       gcsfuse           fsdp                Y   \n",
       "1      fsdp-wds-nfs           nfs           fsdp                Y   \n",
       "3    na-wds-gcsfuse       gcsfuse             na                Y   \n",
       "\n",
       "   metric.train_time  \n",
       "6            119.211  \n",
       "2            112.309  \n",
       "4            155.214  \n",
       "0            156.736  \n",
       "5            150.825  \n",
       "1            147.118  \n",
       "3            225.544  "
      ]
     },
     "execution_count": 112,
     "metadata": {},
     "output_type": "execute_result"
    }
   ],
   "source": [
    "experiment_df = aiplatform.get_experiment_df()\n",
    "cols = ['run_name', \n",
    "        'param.Storage' , 'param.Strategy', 'param.WebDataset', \n",
    "        #'param.Reduction Server',\n",
    "        'metric.train_time' \n",
    "        # , 'metric.data_througput'\n",
    "       ]\n",
    "experiment_df[cols].sort_values(['run_name'])"
   ]
  },
  {
   "cell_type": "markdown",
   "metadata": {
    "id": "list_job"
   },
   "source": [
    "### List a custom training job"
   ]
  },
  {
   "cell_type": "code",
   "execution_count": null,
   "metadata": {
    "id": "list_job"
   },
   "outputs": [],
   "source": [
    "_job = job.list(filter=f\"display_name={DISPLAY_NAME}\")\n",
    "print(_job)"
   ]
  },
  {
   "cell_type": "markdown",
   "metadata": {
    "id": "custom_job_wait:mbsdk"
   },
   "source": [
    "### Wait for completion of custom training job\n",
    "\n",
    "Next, wait for the custom training job to complete. Alternatively, one can set the parameter `sync` to `True` in the `run()` method to block until the custom training job is completed."
   ]
  },
  {
   "cell_type": "code",
   "execution_count": null,
   "metadata": {
    "id": "custom_job_wait:mbsdk"
   },
   "outputs": [],
   "source": [
    "model.wait()"
   ]
  },
  {
   "cell_type": "markdown",
   "metadata": {
    "id": "delete_job"
   },
   "source": [
    "### Delete a custom training job\n",
    "\n",
    "After a training job is completed, you can delete the training job with the method `delete()`.  Prior to completion, a training job can be cancelled with the method `cancel()`."
   ]
  },
  {
   "cell_type": "code",
   "execution_count": null,
   "metadata": {
    "id": "delete_job"
   },
   "outputs": [],
   "source": [
    "job.delete()"
   ]
  },
  {
   "cell_type": "markdown",
   "metadata": {
    "id": "cleanup:mbsdk"
   },
   "source": [
    "# Cleaning up\n",
    "\n",
    "To clean up all Google Cloud resources used in this project, you can [delete the Google Cloud\n",
    "project](https://cloud.google.com/resource-manager/docs/creating-managing-projects#shutting_down_projects) you used for the tutorial.\n",
    "\n",
    "Otherwise, you can delete the individual resources you created in this tutorial:\n",
    "\n",
    "- Model\n",
    "- Cloud Storage Bucket"
   ]
  },
  {
   "cell_type": "code",
   "execution_count": null,
   "metadata": {
    "id": "cleanup:mbsdk"
   },
   "outputs": [],
   "source": [
    "# Delete the model using the Vertex model object\n",
    "model.delete()\n",
    "\n",
    "delete_bucket = False\n",
    "if delete_bucket or os.getenv(\"IS_TESTING\"):\n",
    "    ! gsutil rm -r $BUCKET_URI"
   ]
  },
  {
   "cell_type": "markdown",
   "metadata": {},
   "source": [
    "---"
   ]
  },
  {
   "cell_type": "code",
   "execution_count": 113,
   "metadata": {},
   "outputs": [],
   "source": [
    "TRAIN_GPU, TRAIN_NGPU = (aiplatform.gapic.AcceleratorType.NVIDIA_TESLA_T4, 1)"
   ]
  },
  {
   "cell_type": "code",
   "execution_count": 114,
   "metadata": {},
   "outputs": [
    {
     "name": "stdout",
     "output_type": "stream",
     "text": [
      "CMD_ARGS \n",
      "--train_data_path\n",
      "/mnt/nfs/data/imagenet/imagenet-shards/train-{000020..000039}.tar\n",
      "--val_data_path\n",
      "/mnt/nfs/data/imagenet/imagenet-shards/validation-{000000..000021}.tar\n",
      "--distributed-strategy\n",
      "na\n",
      "--gpus\n",
      "1\n",
      "--batch-size\n",
      "32\n",
      "--epoch\n",
      "5\n",
      "--webdataset\n",
      "BASE_OUTPUT_DIR = gs://cloud-ai-platform-2f444b6a-a742-444b-b91a-c7519f51bd77/experiments/pytorch_eff_training/runs/pytorch_imagenet_eff_20221212140140/\n"
     ]
    }
   ],
   "source": [
    "DISPLAY_NAME = \"pytorch_imagenet_eff_\" + get_timestamp()\n",
    "\n",
    "REPLICA_COUNT = 1\n",
    "BATCH_SIZE = 32\n",
    "EPOCHS = 5\n",
    "WDS_TRAIN_PATH = '/mnt/nfs/data/imagenet/imagenet-shards/train-{000020..000039}.tar' \n",
    "WDS_EVAL_PATH = '/mnt/nfs/data/imagenet/imagenet-shards/validation-{000000..000021}.tar'\n",
    "BASE_OUTPUT_DIR = f'{BUCKET_URI}/experiments/pytorch_eff_training/runs/{DISPLAY_NAME}/'\n",
    "DIST_STRATEGY = 'na'\n",
    "WEBDATASET = True\n",
    "REDUCTION_SERVER = False\n",
    "\n",
    "CMDARGS = [\n",
    "    f'--train_data_path', f'{WDS_TRAIN_PATH}',\n",
    "    f'--val_data_path', f'{WDS_EVAL_PATH}', \n",
    "    f'--distributed-strategy', f'{DIST_STRATEGY}',\n",
    "    f'--gpus', f'{TRAIN_NGPU}',\n",
    "    f'--batch-size', f'{BATCH_SIZE}',\n",
    "    f'--epoch', f'{EPOCHS}',\n",
    "    f'--webdataset' if WEBDATASET else ''\n",
    "]\n",
    "\n",
    "\n",
    "print(f\"CMD_ARGS \\n{chr(10).join(CMDARGS)}\")\n",
    "print(f\"BASE_OUTPUT_DIR = {BASE_OUTPUT_DIR}\")"
   ]
  },
  {
   "cell_type": "code",
   "execution_count": 115,
   "metadata": {},
   "outputs": [
    {
     "name": "stdout",
     "output_type": "stream",
     "text": [
      "EXPERIMENT_RUN_NAME = na-wds-nfs\n"
     ]
    },
    {
     "data": {
      "text/plain": [
       "{'Replica Count': 1,\n",
       " 'Number of GPU': 1,\n",
       " 'Batch Size': 32,\n",
       " 'Epochs': 5,\n",
       " 'Strategy': 'na',\n",
       " 'WebDataset': 'Y',\n",
       " 'Reduction Server': 'N',\n",
       " 'Storage': 'nfs'}"
      ]
     },
     "execution_count": 115,
     "metadata": {},
     "output_type": "execute_result"
    }
   ],
   "source": [
    "# Set experiment parameters\n",
    "exp_params = {\n",
    "    'Replica Count': REPLICA_COUNT,\n",
    "    'Number of GPU': TRAIN_NGPU,\n",
    "    'Batch Size': BATCH_SIZE,\n",
    "    'Epochs': EPOCHS,\n",
    "    # variables\n",
    "    'Strategy': DIST_STRATEGY,\n",
    "    'WebDataset': 'Y' if WEBDATASET else 'N',\n",
    "    'Reduction Server': 'Y' if REDUCTION_SERVER else 'N',\n",
    "    'Storage': 'nfs' # local, nfs\n",
    "}\n",
    "\n",
    "\n",
    "EXPERIMENT_RUN_NAME = (exp_params[\"Strategy\"] +\n",
    "                       (\"-wds\" if WEBDATASET else \"\") +\n",
    "                       (\"-nfs\") +\n",
    "                       (\"-reductionserver\" if REDUCTION_SERVER else \"\")\n",
    "                      )\n",
    "print(f\"EXPERIMENT_RUN_NAME = {EXPERIMENT_RUN_NAME}\")\n",
    "exp_params"
   ]
  },
  {
   "cell_type": "code",
   "execution_count": 116,
   "metadata": {},
   "outputs": [
    {
     "data": {
      "text/plain": [
       "[{'machine_spec': {'machine_type': 'n1-standard-8',\n",
       "   'accelerator_type': 'NVIDIA_TESLA_T4',\n",
       "   'accelerator_count': 1},\n",
       "  'replica_count': 1,\n",
       "  'nfs_mounts': [{'server': '172.26.0.2',\n",
       "    'path': '/data',\n",
       "    'mount_point': '/mnt/nfs/data'}],\n",
       "  'container_spec': {'image_uri': 'gcr.io/rthallam-demo-project/pytorch_eff_training',\n",
       "   'args': ['--train_data_path',\n",
       "    '/mnt/nfs/data/imagenet/imagenet-shards/train-{000020..000039}.tar',\n",
       "    '--val_data_path',\n",
       "    '/mnt/nfs/data/imagenet/imagenet-shards/validation-{000000..000021}.tar',\n",
       "    '--distributed-strategy',\n",
       "    'na',\n",
       "    '--gpus',\n",
       "    '1',\n",
       "    '--batch-size',\n",
       "    '32',\n",
       "    '--epoch',\n",
       "    '5',\n",
       "    '--webdataset']}}]"
      ]
     },
     "execution_count": 116,
     "metadata": {},
     "output_type": "execute_result"
    }
   ],
   "source": [
    "WORKER_SPEC = [{\n",
    "  \"machine_spec\": {\n",
    "    \"machine_type\": TRAIN_COMPUTE,\n",
    "    \"accelerator_type\": TRAIN_GPU.name,\n",
    "    \"accelerator_count\": TRAIN_NGPU\n",
    "  },\n",
    "  \"replica_count\": 1,\n",
    "  \"nfs_mounts\": [{\n",
    "    \"server\": FILESTORE_IP_ADDRESS,\n",
    "    \"path\": f'/{FILE_SHARE_NAME}',\n",
    "    \"mount_point\": '/mnt/nfs/data',\n",
    "  }],\n",
    "  \"container_spec\": {\n",
    "    \"image_uri\": CUSTOM_TRAIN_IMAGE_URI,\n",
    "    \"args\": CMDARGS\n",
    "  }\n",
    "}]\n",
    "WORKER_SPEC"
   ]
  },
  {
   "cell_type": "code",
   "execution_count": null,
   "metadata": {},
   "outputs": [],
   "source": [
    "aiplatform.start_run(EXPERIMENT_RUN_NAME)\n",
    "\n",
    "# log parameters to the experiment\n",
    "aiplatform.log_params(exp_params)\n",
    "\n",
    "# create job\n",
    "job = aiplatform.CustomJob(\n",
    "    display_name=DISPLAY_NAME, \n",
    "    worker_pool_specs=WORKER_SPEC,\n",
    "    staging_bucket=BUCKET_URI,\n",
    "    base_output_dir=BASE_OUTPUT_DIR\n",
    ")\n",
    "\n",
    "job.run(\n",
    "    service_account=SERVICE_ACCOUNT,\n",
    "    network='projects/560224572293/global/networks/default',\n",
    "    # tensorboard=TENSORBOARD_RESOURCE_NAME,\n",
    "    sync=True\n",
    ")\n",
    "\n",
    "if job.state.value == 4 :\n",
    "    # log metrics to the experiment\n",
    "    metrics_path = f'{BASE_OUTPUT_DIR}checkpoints/metrics/summary_metrics.json'\n",
    "    metrics_cols = ['train_time', 'eval_time', 'data_load_time', 'data_througput']\n",
    "    metrics_df = pd.read_json(metrics_path, typ='series')\n",
    "    aiplatform.log_metrics(metrics_df[metrics_cols].to_dict())\n",
    "\n",
    "\n",
    "aiplatform.end_run()"
   ]
  },
  {
   "cell_type": "code",
   "execution_count": null,
   "metadata": {},
   "outputs": [],
   "source": [
    "job.state"
   ]
  },
  {
   "cell_type": "markdown",
   "metadata": {},
   "source": [
    "---"
   ]
  },
  {
   "cell_type": "code",
   "execution_count": null,
   "metadata": {},
   "outputs": [],
   "source": [
    "import glob\n",
    "import json\n",
    "metrics_dir = 'tmp/checkpoints/metrics'\n",
    "\n",
    "def display_metrics(metrics_dir):\n",
    "    # collect all metrics\n",
    "    metrics_f = glob.glob(f'{metrics_dir}/metrics_*.json')\n",
    "    m = [json.load(open(f)) for f in metrics_f]\n",
    "    print(json.dumps(m))\n",
    "    len_m = len(m)\n",
    "    m_totals = [item['total'] for item in m]\n",
    "    m_0 = [item for item in m if item['gpu'] == 0][0]\n",
    "\n",
    "    # inline functions\n",
    "    get_metric = lambda meter,key: [item[key] for item in meter]\n",
    "    avg = lambda items: sum(items)/len(items)\n",
    "\n",
    "    # calculate summary\n",
    "    m_summary = {\n",
    "        'num_gpus': len_m, \n",
    "        'num_epochs': len(m_0['epoch']), \n",
    "        'train_time': round(avg(get_metric(m_totals, 'train_time')), 3), \n",
    "        'eval_time': round(avg(get_metric(m_totals, 'eval_time')), 3), \n",
    "        'data_load_time': round(avg(get_metric(m_totals, 'data_load_time')), 3), \n",
    "        'data_througput': round(sum(get_metric(m_totals, 'data_throughput')), 3), \n",
    "        'forward_time': round(avg(get_metric(m_totals, 'forward_time')), 3), \n",
    "        'backward_time': round(avg(get_metric(m_totals, 'backward_time')), 3), \n",
    "    }\n",
    "\n",
    "    # display summary\n",
    "    metrics_fmt = '\\n=> '.join([f'{k} = {v}' for k,v in m_summary.items()])\n",
    "    print('-'*80)\n",
    "    print(f'=> {metrics_fmt}')\n",
    "    print('-'*80)\n",
    "\n",
    "display_metrics(metrics_dir)"
   ]
  },
  {
   "cell_type": "code",
   "execution_count": null,
   "metadata": {},
   "outputs": [],
   "source": [
    "# TRAIN_VERSION = \"pytorch-gpu.1-9\"\n",
    "# TRAIN_IMAGE = \"{}-docker.pkg.dev/vertex-ai/training/{}:latest\".format(\n",
    "#     REGION.split(\"-\")[0], TRAIN_VERSION\n",
    "# )\n",
    "\n",
    "# # create job\n",
    "# DISPLAY_NAME = \"pytorch_imagenet_eff_\" + get_timestamp()\n",
    "# python_module_name = \"trainer.test\"\n",
    "# job = aiplatform.CustomPythonPackageTrainingJob(\n",
    "#     display_name=DISPLAY_NAME,\n",
    "#     python_package_gcs_uri=python_package_gcs_uri,\n",
    "#     python_module_name=python_module_name,\n",
    "#     container_uri=TRAIN_IMAGE,\n",
    "#     staging_bucket=BUCKET_URI\n",
    "# )\n",
    "\n",
    "# # submit job\n",
    "# job.run(\n",
    "#     args=['&>', '${AIP_MODEL_DIR}/test.log'],\n",
    "#     replica_count=1,\n",
    "#     machine_type=TRAIN_COMPUTE,\n",
    "#     boot_disk_type='pd-ssd',\n",
    "#     boot_disk_size_gb=100,\n",
    "#     accelerator_type=TRAIN_GPU.name,\n",
    "#     accelerator_count=1,\n",
    "#     base_output_dir=BASE_OUTPUT_DIR,\n",
    "#     # service_account=SERVICE_ACCOUNT,\n",
    "#     # tensorboard=TENSORBOARD_RESOURCE_NAME,\n",
    "#     sync=False,\n",
    "# )"
   ]
  },
  {
   "cell_type": "code",
   "execution_count": null,
   "metadata": {},
   "outputs": [],
   "source": [
    "TRAIN_IMAGE"
   ]
  },
  {
   "cell_type": "code",
   "execution_count": null,
   "metadata": {},
   "outputs": [],
   "source": [
    "# aiplatform.start_run(EXPERIMENT_RUN_NAME)\n",
    "\n",
    "# # log parameters to the experiment\n",
    "# aiplatform.log_params(exp_params)\n",
    "\n",
    "# # create job\n",
    "# DISPLAY_NAME = \"pytorch_imagenet_eff_\" + get_timestamp()\n",
    "# job = aiplatform.CustomPythonPackageTrainingJob(\n",
    "#     display_name=DISPLAY_NAME,\n",
    "#     python_package_gcs_uri=python_package_gcs_uri,\n",
    "#     python_module_name=python_module_name,\n",
    "#     container_uri=TRAIN_IMAGE,\n",
    "#     staging_bucket=BUCKET_URI\n",
    "# )\n",
    "\n",
    "# # submit job\n",
    "# job.run(\n",
    "#     args=CMDARGS,\n",
    "#     replica_count=1,\n",
    "#     machine_type=TRAIN_COMPUTE,\n",
    "#     boot_disk_type='pd-ssd',\n",
    "#     boot_disk_size_gb=100,\n",
    "#     accelerator_type=TRAIN_GPU.name,\n",
    "#     accelerator_count=TRAIN_NGPU,\n",
    "#     base_output_dir=BASE_OUTPUT_DIR,\n",
    "#     service_account=SERVICE_ACCOUNT,\n",
    "#     tensorboard=TENSORBOARD_RESOURCE_NAME,\n",
    "#     sync=True,\n",
    "# )\n",
    "# # job.wait_for_resource_creation()\n",
    "\n",
    "# if job.state.value == 4 :\n",
    "#     # log metrics to the experiment\n",
    "#     metrics_path = f'{BASE_OUTPUT_DIR}checkpoints/metrics/summary_metrics.json'\n",
    "#     metrics_cols = ['train_time', 'eval_time', 'data_load_time', 'data_througput']\n",
    "#     metrics_df = pd.read_json(metrics_path, typ='series')\n",
    "#     aiplatform.log_metrics(metrics_df[metrics_cols].to_dict())\n",
    "\n",
    "\n",
    "# aiplatform.end_run()"
   ]
  },
  {
   "cell_type": "code",
   "execution_count": 18,
   "metadata": {},
   "outputs": [],
   "source": [
    "from tensorboard.backend.event_processing import event_accumulator"
   ]
  },
  {
   "cell_type": "code",
   "execution_count": 22,
   "metadata": {},
   "outputs": [],
   "source": [
    "!rm -fR logs"
   ]
  },
  {
   "cell_type": "code",
   "execution_count": 23,
   "metadata": {},
   "outputs": [
    {
     "name": "stdout",
     "output_type": "stream",
     "text": [
      "Copying gs://cloud-ai-platform-2f444b6a-a742-444b-b91a-c7519f51bd77/experiments/pytorch_eff_training/runs/pytorch_imagenet_eff_20221212030542/logs/events.out.tfevents.1670814693.f1a0f3cd3bbf.11.0...\n",
      "Copying gs://cloud-ai-platform-2f444b6a-a742-444b-b91a-c7519f51bd77/experiments/pytorch_eff_training/runs/pytorch_imagenet_eff_20221212030542/logs/events.out.tfevents.1670814693.f1a0f3cd3bbf.12.0...\n",
      "Copying gs://cloud-ai-platform-2f444b6a-a742-444b-b91a-c7519f51bd77/experiments/pytorch_eff_training/runs/pytorch_imagenet_eff_20221212030542/logs/events.out.tfevents.1670814693.f1a0f3cd3bbf.13.0...\n",
      "/ [3 files][  1.6 KiB/  1.6 KiB]                                                \n",
      "==> NOTE: You are performing a sequence of gsutil operations that may\n",
      "run significantly faster if you instead use gsutil -m cp ... Please\n",
      "see the -m section under \"gsutil help options\" for further information\n",
      "about when gsutil -m can be advantageous.\n",
      "\n",
      "Copying gs://cloud-ai-platform-2f444b6a-a742-444b-b91a-c7519f51bd77/experiments/pytorch_eff_training/runs/pytorch_imagenet_eff_20221212030542/logs/events.out.tfevents.1670814693.f1a0f3cd3bbf.14.0...\n",
      "/ [4 files][  1.6 KiB/  1.6 KiB]                                                \n",
      "Operation completed over 4 objects/1.6 KiB.                                      \n"
     ]
    }
   ],
   "source": [
    "!gsutil cp -r gs://cloud-ai-platform-2f444b6a-a742-444b-b91a-c7519f51bd77/experiments/pytorch_eff_training/runs/pytorch_imagenet_eff_20221212030542/logs ."
   ]
  },
  {
   "cell_type": "code",
   "execution_count": 25,
   "metadata": {},
   "outputs": [
    {
     "name": "stdout",
     "output_type": "stream",
     "text": [
      "total 16\n",
      "-rw-r--r-- 1 jupyter jupyter 1530 Dec 12 03:38 events.out.tfevents.1670814693.f1a0f3cd3bbf.11.0\n",
      "-rw-r--r-- 1 jupyter jupyter   40 Dec 12 03:38 events.out.tfevents.1670814693.f1a0f3cd3bbf.12.0\n",
      "-rw-r--r-- 1 jupyter jupyter   40 Dec 12 03:38 events.out.tfevents.1670814693.f1a0f3cd3bbf.13.0\n",
      "-rw-r--r-- 1 jupyter jupyter   40 Dec 12 03:38 events.out.tfevents.1670814693.f1a0f3cd3bbf.14.0\n"
     ]
    }
   ],
   "source": [
    "! ls -ltr logs"
   ]
  },
  {
   "cell_type": "code",
   "execution_count": 26,
   "metadata": {},
   "outputs": [
    {
     "name": "stdout",
     "output_type": "stream",
     "text": [
      "    step              tag        value\n",
      "0      1    Backward Time    92.600937\n",
      "1      2    Backward Time    71.469337\n",
      "2      3    Backward Time    72.210587\n",
      "3      4    Backward Time    81.568993\n",
      "4      5    Backward Time    77.389091\n",
      "5      1   Data Load Time    10.897692\n",
      "6      2   Data Load Time    14.815666\n",
      "7      3   Data Load Time    15.557257\n",
      "8      4   Data Load Time    13.182519\n",
      "9      5   Data Load Time    16.663309\n",
      "13     4  Data Throughput   949.135742\n",
      "12     3  Data Throughput   804.254944\n",
      "14     5  Data Throughput   750.871277\n",
      "10     1  Data Throughput  1148.133057\n",
      "11     2  Data Throughput   844.511414\n",
      "15     1     Forward Time    26.173960\n",
      "16     2     Forward Time    24.516863\n",
      "17     3     Forward Time    23.960457\n",
      "18     4     Forward Time    23.138754\n",
      "19     5     Forward Time    23.681822\n",
      "24     5             Loss  2398.791016\n",
      "23     4             Loss  2464.773193\n",
      "21     2             Loss  2615.734375\n",
      "20     1             Loss  2746.109619\n",
      "22     3             Loss  2544.524658\n",
      "28     4     Val Accuracy     0.014824\n",
      "25     1     Val Accuracy     0.005389\n",
      "26     2     Val Accuracy     0.007933\n",
      "27     3     Val Accuracy     0.011338\n",
      "29     5     Val Accuracy     0.020693\n"
     ]
    },
    {
     "data": {
      "text/plain": [
       "[<matplotlib.lines.Line2D at 0x7fd1fc489110>]"
      ]
     },
     "execution_count": 26,
     "metadata": {},
     "output_type": "execute_result"
    },
    {
     "data": {
      "image/png": "[encoded data removed]",
      "text/plain": [
       "<Figure size 640x480 with 1 Axes>"
      ]
     },
     "metadata": {},
     "output_type": "display_data"
    }
   ],
   "source": [
    "from tbparse import SummaryReader\n",
    "log_dir = \"logs\"\n",
    "reader = SummaryReader(log_dir)\n",
    "df = reader.scalars\n",
    "print(df.sort_values(['tag']))\n",
    "\n",
    "\n",
    "import matplotlib.pyplot as plt\n",
    "plt.plot(df['step'][df.tag=='Backward Time/0'], df['value'][df.tag=='Backward Time/0'])\n",
    "plt.plot(df['step'][df.tag=='Data Throughput/0'], df['value'][df.tag=='Data Throughput/0'])"
   ]
  },
  {
   "cell_type": "code",
   "execution_count": 31,
   "metadata": {},
   "outputs": [
    {
     "data": {
      "text/plain": [
       "{'_buckets': defaultdict(<function tensorboard.backend.event_processing.reservoir.Reservoir.__init__.<locals>.<lambda>()>,\n",
       "             {}),\n",
       " '_mutex': <unlocked _thread.lock object at 0x7f2d85471a50>,\n",
       " 'size': 10000,\n",
       " 'always_keep_last': True}"
      ]
     },
     "execution_count": 31,
     "metadata": {},
     "output_type": "execute_result"
    }
   ],
   "source": [
    "vars(ea.scalars)"
   ]
  }
 ],
 "metadata": {
  "colab": {
   "name": "get_started_vertex_training_pytorch.ipynb",
   "toc_visible": true
  },
  "environment": {
   "kernel": "python3",
   "name": "pytorch-gpu.1-12.m100",
   "type": "gcloud",
   "uri": "gcr.io/deeplearning-platform-release/pytorch-gpu.1-12:m100"
  },
  "kernelspec": {
   "display_name": "Python 3",
   "language": "python",
   "name": "python3"
  },
  "language_info": {
   "codemirror_mode": {
    "name": "ipython",
    "version": 3
   },
   "file_extension": ".py",
   "mimetype": "text/x-python",
   "name": "python",
   "nbconvert_exporter": "python",
   "pygments_lexer": "ipython3",
   "version": "3.7.12"
  }
 },
 "nbformat": 4,
 "nbformat_minor": 4
}
